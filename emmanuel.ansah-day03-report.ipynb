{
 "cells": [
  {
   "cell_type": "markdown",
   "metadata": {
    "id": "vuZYRaBzbIcs"
   },
   "source": [
    "## Practical 1: Version Control with Git: `local` "
   ]
  },
  {
   "cell_type": "markdown",
   "metadata": {},
   "source": [
    "<left> <b> <span style=\"color:red;\"> \n",
    "This notebook is focused on version control with a local repository. You are expected to go through it line by line, step by step. Execute each code cell and follow the instructions to understand how to manage version control locally. Experiment with commands, make changes, and observe how they affect your repository. Your hands-on interaction with the examples will enhance your comprehension of local version control practices.\n",
    "</span> </b></left>\n",
    "\n",
    "\n",
    "## You might find [this reference](https://ndpsoftware.com/git-cheatsheet.html#loc=index;) ,   [this command list](https://git-scm.com/docs) as well as  this [resource](https://git-scm.com/docs/gittutorial) very useful for this practical."
   ]
  },
  {
   "cell_type": "markdown",
   "metadata": {
    "id": "be02507b"
   },
   "source": [
    "### What is Version Control ?\n",
    "\n",
    "\n",
    "In software development, revision control systems (RCS) are essential tools. They are widely used across all development environments and by developers everywhere.\n",
    "\n",
    "RCS are versatile and not limited to just software projects; they are also invaluable for managing various types of digital content, including manuscripts, figures, data, and notebooks.\n",
    "\n",
    "Revision control systems (RCS) serve two primary purposes:\n",
    "\n",
    "1. **Track Changes in Source Code:**\n",
    "   - Enable tracking and managing changes to the source code.\n",
    "   - Allow reverting to previous versions if issues arise.\n",
    "   - Support working on multiple \"branches\" of the software at the same time.\n",
    "   - Use tags to identify and manage different versions, such as \"release-1.0\" or \"paper-A-final.\"\n",
    "\n",
    "2. **Facilitate Collaborative Development:**\n",
    "   - Allow multiple contributors to work on the same codebase simultaneously.\n",
    "   - Enable numerous authors to make and integrate changes.\n",
    "   - Provide clear communication and visualization of changes to all team members.\n",
    "\n",
    "\n",
    "\n",
    "\n",
    "### Basic Principles and Terminology of Revision Control Systems (RCS)\n",
    "\n",
    "In an RCS, source code or digital content is managed within a repository.\n",
    "\n",
    "- **Repository:** Stores not only the latest version of files but also the complete history of all changes made to these files since their initial addition to the repository.\n",
    "\n",
    "- **Checkout:** Users obtain a local working copy of the files from the repository. Changes are made to these local files, allowing for additions, deletions, and updates.\n",
    "\n",
    "- **Commit:** After completing a task, changes made to the local files are saved back to the repository.\n",
    "\n",
    "- **Conflict Resolution:** If changes have been made by others to the same files, conflicts may arise. The system often resolves conflicts automatically, but manual intervention may be necessary to merge conflicting changes.\n",
    "\n",
    "- **Branches and Forks:** For larger experimental developments, it’s common to create a new branch, fork, or clone of the repository. The primary branch is usually called `master` or `trunk`. Once work on a branch or fork is finished, it can be merged back into the main branch or repository.\n",
    "\n",
    "- **Distributed RCS:** Systems like Git or Mercurial allow for pulling and pushing changesets between different repositories. For instance, changes can be pushed from a local repository to a central online repository, such as those hosted on platforms like GitHub.\n",
    "\n",
    "\n",
    "In a few words, **version control** is a way to keep a backup of the changes in your\n",
    "files and to store a history of those changes.  The key charateristic of VC is that and it\n",
    "allows many people in a collaboration to make changes to the same files\n",
    "concurrently. VC is done via a VC system and there are a lot of them. [Wikipedia](https://en.wikipedia.org/wiki/Version_control)\n",
    "provides both a nice vocabulary list and a fairly complete table of some\n",
    "popular version control systems and their equivalent commands.\n",
    "\n",
    "\n",
    "\n",
    "### Popular Revision Control Systems\n",
    "\n",
    "- **Git (git):** [http://git-scm.com/](http://git-scm.com/)\n",
    "- **Mercurial (hg):** [http://mercurial.selenic.com/](http://mercurial.selenic.com/)\n",
    "\n",
    "In the remainder of this lecture, we will focus on Git. However, Mercurial is equally effective and operates in a very similar manner.\n",
    "\n",
    "We'll be using git. `Git` is an example of a distributed version control system, distinct from centralized versing control systems. I'll not discuss the distinction, but for now, the table below will\n",
    "suffice.\n",
    "\n",
    "Version Control System Tool Options\n",
    "\n",
    "- **Distributed** \n",
    "  - Decentralized CVS (dcvs)  \n",
    "  - mercurial (hg)\n",
    "  - git (git) \n",
    "  - bazaar (bzr)\n",
    "  \n",
    "- **Centralized**\n",
    "  - concurrent versions system (cvs)\n",
    "  - subversion (svn)"
   ]
  },
  {
   "cell_type": "markdown",
   "metadata": {},
   "source": [
    "## git --help : Getting Help\n",
    "\n",
    "The first thing you should know about any **tool** is how to get **help**. From the command line type\n",
    "\n",
    "```bash\n",
    "$ man git\n",
    "```\n",
    "\n",
    "If you remember from the **shell class**, **man** tells you more about a command and how to use it. The manual entry for the git version control system will appear before you. You may scroll through it using arrows, or you can search for\n",
    "keywords by typing **/** followed by the search term. I'm interested in help, so I type **/help** and then hit enter. It looks like the syntax for getting help with git is **git --help**."
   ]
  },
  {
   "cell_type": "code",
   "execution_count": 3,
   "metadata": {},
   "outputs": [
    {
     "name": "stdout",
     "output_type": "stream",
     "text": [
      "usage: git [-v | --version] [-h | --help] [-C <path>] [-c <name>=<value>]\r\n",
      "           [--exec-path[=<path>]] [--html-path] [--man-path] [--info-path]\r\n",
      "           [-p | --paginate | -P | --no-pager] [--no-replace-objects] [--bare]\r\n",
      "           [--git-dir=<path>] [--work-tree=<path>] [--namespace=<name>]\r\n",
      "           [--super-prefix=<path>] [--config-env=<name>=<envvar>]\r\n",
      "           <command> [<args>]\r\n",
      "\r\n",
      "These are common Git commands used in various situations:\r\n",
      "\r\n",
      "start a working area (see also: git help tutorial)\r\n",
      "   clone     Clone a repository into a new directory\r\n",
      "   init      Create an empty Git repository or reinitialize an existing one\r\n",
      "\r\n",
      "work on the current change (see also: git help everyday)\r\n",
      "   add       Add file contents to the index\r\n",
      "   mv        Move or rename a file, a directory, or a symlink\r\n",
      "   restore   Restore working tree files\r\n",
      "   rm        Remove files from the working tree and from the index\r\n",
      "\r\n",
      "examine the history and state (see also: git help revisions)\r\n",
      "   bisect    Use binary search to find the commit that introduced a bug\r\n",
      "   diff      Show changes between commits, commit and working tree, etc\r\n",
      "   grep      Print lines matching a pattern\r\n",
      "   log       Show commit logs\r\n",
      "   show      Show various types of objects\r\n",
      "   status    Show the working tree status\r\n",
      "\r\n",
      "grow, mark and tweak your common history\r\n",
      "   branch    List, create, or delete branches\r\n",
      "   commit    Record changes to the repository\r\n",
      "   merge     Join two or more development histories together\r\n",
      "   rebase    Reapply commits on top of another base tip\r\n",
      "   reset     Reset current HEAD to the specified state\r\n",
      "   switch    Switch branches\r\n",
      "   tag       Create, list, delete or verify a tag object signed with GPG\r\n",
      "\r\n",
      "collaborate (see also: git help workflows)\r\n",
      "   fetch     Download objects and refs from another repository\r\n",
      "   pull      Fetch from and integrate with another repository or a local branch\r\n",
      "   push      Update remote refs along with associated objects\r\n",
      "\r\n",
      "'git help -a' and 'git help -g' list available subcommands and some\r\n",
      "concept guides. See 'git help <command>' or 'git help <concept>'\r\n",
      "to read about a specific subcommand or concept.\r\n",
      "See 'git help git' for an overview of the system.\r\n"
     ]
    }
   ],
   "source": [
    "!git --help"
   ]
  },
  {
   "cell_type": "markdown",
   "metadata": {
    "id": "fee39700"
   },
   "source": [
    "To exit the manual page, type `q`.\n",
    "\n",
    "Let's see what happens when we type :\n",
    "\n",
    "```bash\n",
    "$ git --help\n",
    "```\n",
    "\n",
    "Excellent, it gives a list of commands it is able to help with, as well as their descriptions.\n",
    "\n",
    "```bash\n",
    "$  git help <command>' for more information on a specific command.\n",
    "```"
   ]
  },
  {
   "cell_type": "code",
   "execution_count": 4,
   "metadata": {},
   "outputs": [
    {
     "name": "stdout",
     "output_type": "stream",
     "text": [
      "GIT-BRANCH(1)                     Git Manual                     GIT-BRANCH(1)\r\n",
      "\r\n",
      "N\bNA\bAM\bME\bE\r\n",
      "       git-branch - List, create, or delete branches\r\n",
      "\r\n",
      "S\bSY\bYN\bNO\bOP\bPS\bSI\bIS\bS\r\n",
      "       _\bg_\bi_\bt _\bb_\br_\ba_\bn_\bc_\bh [--color[=<when>] | --no-color] [--show-current]\r\n",
      "               [-v [--abbrev=<n> | --no-abbrev]]\r\n",
      "               [--column[=<options>] | --no-column] [--sort=<key>]\r\n",
      "               [--merged [<commit>]] [--no-merged [<commit>]]\r\n",
      "               [--contains [<commit>]] [--no-contains [<commit>]]\r\n",
      "               [--points-at <object>] [--format=<format>]\r\n",
      "               [(-r | --remotes) | (-a | --all)]\r\n",
      "               [--list] [<pattern>...]\r\n",
      "       _\bg_\bi_\bt _\bb_\br_\ba_\bn_\bc_\bh [--track[=(direct|inherit)] | --no-track] [-f]\r\n",
      "               [--recurse-submodules] <branchname> [<start-point>]\r\n",
      "       _\bg_\bi_\bt _\bb_\br_\ba_\bn_\bc_\bh (--set-upstream-to=<upstream> | -u <upstream>) [<branchname>]\r\n",
      "       _\bg_\bi_\bt _\bb_\br_\ba_\bn_\bc_\bh --unset-upstream [<branchname>]\r\n",
      "       _\bg_\bi_\bt _\bb_\br_\ba_\bn_\bc_\bh (-m | -M) [<oldbranch>] <newbranch>\r\n",
      "       _\bg_\bi_\bt _\bb_\br_\ba_\bn_\bc_\bh (-c | -C) [<oldbranch>] <newbranch>\r\n",
      "       _\bg_\bi_\bt _\bb_\br_\ba_\bn_\bc_\bh (-d | -D) [-r] <branchname>...\r\n",
      "       _\bg_\bi_\bt _\bb_\br_\ba_\bn_\bc_\bh --edit-description [<branchname>]\r\n",
      "\r\n",
      "D\bDE\bES\bSC\bCR\bRI\bIP\bPT\bTI\bIO\bON\bN\r\n",
      "       If -\b--\b-l\bli\bis\bst\bt is given, or if there are no non-option arguments, existing\r\n",
      "       branches are listed; the current branch will be highlighted in green\r\n",
      "       and marked with an asterisk. Any branches checked out in linked\r\n",
      "       worktrees will be highlighted in cyan and marked with a plus sign.\r\n",
      "       Option -\b-r\br causes the remote-tracking branches to be listed, and option\r\n",
      "       -\b-a\ba shows both local and remote branches.\r\n",
      "\r\n",
      "       If a <\b<p\bpa\bat\btt\bte\ber\brn\bn>\b> is given, it is used as a shell wildcard to restrict the\r\n",
      "       output to matching branches. If multiple patterns are given, a branch\r\n",
      "       is shown if it matches any of the patterns.\r\n",
      "\r\n",
      "       Note that when providing a <\b<p\bpa\bat\btt\bte\ber\brn\bn>\b>, you must use -\b--\b-l\bli\bis\bst\bt; otherwise\r\n",
      "       the command may be interpreted as branch creation.\r\n",
      "\r\n",
      "       With -\b--\b-c\bco\bon\bnt\bta\bai\bin\bns\bs, shows only the branches that contain the named commit\r\n",
      "       (in other words, the branches whose tip commits are descendants of the\r\n",
      "       named commit), -\b--\b-n\bno\bo-\b-c\bco\bon\bnt\bta\bai\bin\bns\bs inverts it. With -\b--\b-m\bme\ber\brg\bge\bed\bd, only branches\r\n",
      "       merged into the named commit (i.e. the branches whose tip commits are\r\n",
      "       reachable from the named commit) will be listed. With -\b--\b-n\bno\bo-\b-m\bme\ber\brg\bge\bed\bd only\r\n",
      "       branches not merged into the named commit will be listed. If the\r\n",
      "       <commit> argument is missing it defaults to H\bHE\bEA\bAD\bD (i.e. the tip of the\r\n",
      "       current branch).\r\n",
      "\r\n",
      "       The command’s second form creates a new branch head named <branchname>\r\n",
      "       which points to the current H\bHE\bEA\bAD\bD, or <start-point> if given. As a\r\n",
      "       special case, for <start-point>, you may use \"\b\"A\bA.\b..\b..\b.B\bB\"\b\" as a shortcut for\r\n",
      "       the merge base of A\bA and B\bB if there is exactly one merge base. You can\r\n",
      "       leave out at most one of A\bA and B\bB, in which case it defaults to H\bHE\bEA\bAD\bD.\r\n",
      "\r\n",
      "       Note that this will create the new branch, but it will not switch the\r\n",
      "       working tree to it; use \"git switch <newbranch>\" to switch to the new\r\n",
      "       branch.\r\n",
      "\r\n",
      "       When a local branch is started off a remote-tracking branch, Git sets\r\n",
      "       up the branch (specifically the b\bbr\bra\ban\bnc\bch\bh.\b.<\b<n\bna\bam\bme\be>\b>.\b.r\bre\bem\bmo\bot\bte\be and\r\n",
      "       b\bbr\bra\ban\bnc\bch\bh.\b.<\b<n\bna\bam\bme\be>\b>.\b.m\bme\ber\brg\bge\be configuration entries) so that _\bg_\bi_\bt _\bp_\bu_\bl_\bl will\r\n",
      "       appropriately merge from the remote-tracking branch. This behavior may\r\n",
      "       be changed via the global b\bbr\bra\ban\bnc\bch\bh.\b.a\bau\but\bto\boS\bSe\bet\btu\bup\bpM\bMe\ber\brg\bge\be configuration flag.\r\n",
      "       That setting can be overridden by using the -\b--\b-t\btr\bra\bac\bck\bk and -\b--\b-n\bno\bo-\b-t\btr\bra\bac\bck\bk\r\n",
      "       options, and changed later using g\bgi\bit\bt b\bbr\bra\ban\bnc\bch\bh -\b--\b-s\bse\bet\bt-\b-u\bup\bps\bst\btr\bre\bea\bam\bm-\b-t\bto\bo.\r\n",
      "\r\n",
      "       With a -\b-m\bm or -\b-M\bM option, <oldbranch> will be renamed to <newbranch>. If\r\n",
      "       <oldbranch> had a corresponding reflog, it is renamed to match\r\n",
      "       <newbranch>, and a reflog entry is created to remember the branch\r\n",
      "       renaming. If <newbranch> exists, -M must be used to force the rename to\r\n",
      "       happen.\r\n",
      "\r\n",
      "       The -\b-c\bc and -\b-C\bC options have the exact same semantics as -\b-m\bm and -\b-M\bM,\r\n",
      "       except instead of the branch being renamed, it will be copied to a new\r\n",
      "       name, along with its config and reflog.\r\n",
      "\r\n",
      "       With a -\b-d\bd or -\b-D\bD option, <\b<b\bbr\bra\ban\bnc\bch\bhn\bna\bam\bme\be>\b> will be deleted. You may specify\r\n",
      "       more than one branch for deletion. If the branch currently has a reflog\r\n",
      "       then the reflog will also be deleted.\r\n",
      "\r\n",
      "       Use -\b-r\br together with -\b-d\bd to delete remote-tracking branches. Note, that\r\n",
      "       it only makes sense to delete remote-tracking branches if they no\r\n",
      "       longer exist in the remote repository or if _\bg_\bi_\bt _\bf_\be_\bt_\bc_\bh was configured\r\n",
      "       not to fetch them again. See also the _\bp_\br_\bu_\bn_\be subcommand of g\bgi\bit\bt-\b-r\bre\bem\bmo\bot\bte\be(1)\r\n",
      "       for a way to clean up all obsolete remote-tracking branches.\r\n",
      "\r\n",
      "O\bOP\bPT\bTI\bIO\bON\bNS\bS\r\n",
      "       -d, --delete\r\n",
      "           Delete a branch. The branch must be fully merged in its upstream\r\n",
      "           branch, or in H\bHE\bEA\bAD\bD if no upstream was set with -\b--\b-t\btr\bra\bac\bck\bk or\r\n",
      "           -\b--\b-s\bse\bet\bt-\b-u\bup\bps\bst\btr\bre\bea\bam\bm-\b-t\bto\bo.\r\n",
      "\r\n",
      "       -D\r\n",
      "           Shortcut for -\b--\b-d\bde\bel\ble\bet\bte\be -\b--\b-f\bfo\bor\brc\bce\be.\r\n",
      "\r\n",
      "       --create-reflog\r\n",
      "           Create the branch’s reflog. This activates recording of all changes\r\n",
      "           made to the branch ref, enabling use of date based sha1 expressions\r\n",
      "           such as \"<branchname>@{yesterday}\". Note that in non-bare\r\n",
      "           repositories, reflogs are usually enabled by default by the\r\n",
      "           c\bco\bor\bre\be.\b.l\blo\bog\bgA\bAl\bll\blR\bRe\bef\bfU\bUp\bpd\bda\bat\bte\bes\bs config option. The negated form\r\n",
      "           -\b--\b-n\bno\bo-\b-c\bcr\bre\bea\bat\bte\be-\b-r\bre\bef\bfl\blo\bog\bg only overrides an earlier -\b--\b-c\bcr\bre\bea\bat\bte\be-\b-r\bre\bef\bfl\blo\bog\bg, but\r\n",
      "           currently does not negate the setting of c\bco\bor\bre\be.\b.l\blo\bog\bgA\bAl\bll\blR\bRe\bef\bfU\bUp\bpd\bda\bat\bte\bes\bs.\r\n",
      "\r\n",
      "       -f, --force\r\n",
      "           Reset <branchname> to <startpoint>, even if <branchname> exists\r\n",
      "           already. Without -\b-f\bf, _\bg_\bi_\bt _\bb_\br_\ba_\bn_\bc_\bh refuses to change an existing\r\n",
      "           branch. In combination with -\b-d\bd (or -\b--\b-d\bde\bel\ble\bet\bte\be), allow deleting the\r\n",
      "           branch irrespective of its merged status, or whether it even points\r\n",
      "           to a valid commit. In combination with -\b-m\bm (or -\b--\b-m\bmo\bov\bve\be), allow\r\n",
      "           renaming the branch even if the new branch name already exists, the\r\n",
      "           same applies for -\b-c\bc (or -\b--\b-c\bco\bop\bpy\by).\r\n",
      "\r\n",
      "       -m, --move\r\n",
      "           Move/rename a branch, together with its config and reflog.\r\n",
      "\r\n",
      "       -M\r\n",
      "           Shortcut for -\b--\b-m\bmo\bov\bve\be -\b--\b-f\bfo\bor\brc\bce\be.\r\n",
      "\r\n",
      "       -c, --copy\r\n",
      "           Copy a branch, together with its config and reflog.\r\n",
      "\r\n",
      "       -C\r\n",
      "           Shortcut for -\b--\b-c\bco\bop\bpy\by -\b--\b-f\bfo\bor\brc\bce\be.\r\n",
      "\r\n",
      "       --color[=<when>]\r\n",
      "           Color branches to highlight current, local, and remote-tracking\r\n",
      "           branches. The value must be always (the default), never, or auto.\r\n",
      "\r\n",
      "       --no-color\r\n",
      "           Turn off branch colors, even when the configuration file gives the\r\n",
      "           default to color output. Same as -\b--\b-c\bco\bol\blo\bor\br=\b=n\bne\bev\bve\ber\br.\r\n",
      "\r\n",
      "       -i, --ignore-case\r\n",
      "           Sorting and filtering branches are case insensitive.\r\n",
      "\r\n",
      "       --column[=<options>], --no-column\r\n",
      "           Display branch listing in columns. See configuration variable\r\n",
      "           c\bco\bol\blu\bum\bmn\bn.\b.b\bbr\bra\ban\bnc\bch\bh for option syntax.  -\b--\b-c\bco\bol\blu\bum\bmn\bn and -\b--\b-n\bno\bo-\b-c\bco\bol\blu\bum\bmn\bn without\r\n",
      "           options are equivalent to _\ba_\bl_\bw_\ba_\by_\bs and _\bn_\be_\bv_\be_\br respectively.\r\n",
      "\r\n",
      "           This option is only applicable in non-verbose mode.\r\n",
      "\r\n",
      "       -r, --remotes\r\n",
      "           List or delete (if used with -d) the remote-tracking branches.\r\n",
      "           Combine with -\b--\b-l\bli\bis\bst\bt to match the optional pattern(s).\r\n",
      "\r\n",
      "       -a, --all\r\n",
      "           List both remote-tracking branches and local branches. Combine with\r\n",
      "           -\b--\b-l\bli\bis\bst\bt to match optional pattern(s).\r\n",
      "\r\n",
      "       -l, --list\r\n",
      "           List branches. With optional <\b<p\bpa\bat\btt\bte\ber\brn\bn>\b>.\b..\b..\b., e.g.  g\bgi\bit\bt b\bbr\bra\ban\bnc\bch\bh -\b--\b-l\bli\bis\bst\bt\r\n",
      "           '\b'm\bma\bai\bin\bnt\bt-\b-*\b*'\b', list only the branches that match the pattern(s).\r\n",
      "\r\n",
      "       --show-current\r\n",
      "           Print the name of the current branch. In detached HEAD state,\r\n",
      "           nothing is printed.\r\n",
      "\r\n",
      "       -v, -vv, --verbose\r\n",
      "           When in list mode, show sha1 and commit subject line for each head,\r\n",
      "           along with relationship to upstream branch (if any). If given\r\n",
      "           twice, print the path of the linked worktree (if any) and the name\r\n",
      "           of the upstream branch, as well (see also g\bgi\bit\bt r\bre\bem\bmo\bot\bte\be s\bsh\bho\bow\bw\r\n",
      "           <\b<r\bre\bem\bmo\bot\bte\be>\b>). Note that the current worktree’s HEAD will not have its\r\n",
      "           path printed (it will always be your current directory).\r\n",
      "\r\n",
      "       -q, --quiet\r\n",
      "           Be more quiet when creating or deleting a branch, suppressing\r\n",
      "           non-error messages.\r\n",
      "\r\n",
      "       --abbrev=<n>\r\n",
      "           In the verbose listing that show the commit object name, show the\r\n",
      "           shortest prefix that is at least _\b<_\bn_\b> hexdigits long that uniquely\r\n",
      "           refers the object. The default value is 7 and can be overridden by\r\n",
      "           the c\bco\bor\bre\be.\b.a\bab\bbb\bbr\bre\bev\bv config option.\r\n",
      "\r\n",
      "       --no-abbrev\r\n",
      "           Display the full sha1s in the output listing rather than\r\n",
      "           abbreviating them.\r\n",
      "\r\n",
      "       -t, --track[=(direct|inherit)]\r\n",
      "           When creating a new branch, set up b\bbr\bra\ban\bnc\bch\bh.\b.<\b<n\bna\bam\bme\be>\b>.\b.r\bre\bem\bmo\bot\bte\be and\r\n",
      "           b\bbr\bra\ban\bnc\bch\bh.\b.<\b<n\bna\bam\bme\be>\b>.\b.m\bme\ber\brg\bge\be configuration entries to set \"upstream\"\r\n",
      "           tracking configuration for the new branch. This configuration will\r\n",
      "           tell git to show the relationship between the two branches in g\bgi\bit\bt\r\n",
      "           s\bst\bta\bat\btu\bus\bs and g\bgi\bit\bt b\bbr\bra\ban\bnc\bch\bh -\b-v\bv. Furthermore, it directs g\bgi\bit\bt p\bpu\bul\bll\bl without\r\n",
      "           arguments to pull from the upstream when the new branch is checked\r\n",
      "           out.\r\n",
      "\r\n",
      "           The exact upstream branch is chosen depending on the optional\r\n",
      "           argument: -\b-t\bt, -\b--\b-t\btr\bra\bac\bck\bk, or -\b--\b-t\btr\bra\bac\bck\bk=\b=d\bdi\bir\bre\bec\bct\bt means to use the\r\n",
      "           start-point branch itself as the upstream; -\b--\b-t\btr\bra\bac\bck\bk=\b=i\bin\bnh\bhe\ber\bri\bit\bt means to\r\n",
      "           copy the upstream configuration of the start-point branch.\r\n",
      "\r\n",
      "           The branch.autoSetupMerge configuration variable specifies how g\bgi\bit\bt\r\n",
      "           s\bsw\bwi\bit\btc\bch\bh, g\bgi\bit\bt c\bch\bhe\bec\bck\bko\bou\but\bt and g\bgi\bit\bt b\bbr\bra\ban\bnc\bch\bh should behave when neither\r\n",
      "           -\b--\b-t\btr\bra\bac\bck\bk nor -\b--\b-n\bno\bo-\b-t\btr\bra\bac\bck\bk are specified:\r\n",
      "\r\n",
      "           The default option, t\btr\bru\bue\be, behaves as though -\b--\b-t\btr\bra\bac\bck\bk=\b=d\bdi\bir\bre\bec\bct\bt were\r\n",
      "           given whenever the start-point is a remote-tracking branch.  f\bfa\bal\bls\bse\be\r\n",
      "           behaves as if -\b--\b-n\bno\bo-\b-t\btr\bra\bac\bck\bk were given.  a\bal\blw\bwa\bay\bys\bs behaves as though\r\n",
      "           -\b--\b-t\btr\bra\bac\bck\bk=\b=d\bdi\bir\bre\bec\bct\bt were given.  i\bin\bnh\bhe\ber\bri\bit\bt behaves as though\r\n",
      "           -\b--\b-t\btr\bra\bac\bck\bk=\b=i\bin\bnh\bhe\ber\bri\bit\bt were given.  s\bsi\bim\bmp\bpl\ble\be behaves as though\r\n",
      "           -\b--\b-t\btr\bra\bac\bck\bk=\b=d\bdi\bir\bre\bec\bct\bt were given only when the start-point is a\r\n",
      "           remote-tracking branch and the new branch has the same name as the\r\n",
      "           remote branch.\r\n",
      "\r\n",
      "           See g\bgi\bit\bt-\b-p\bpu\bul\bll\bl(1) and g\bgi\bit\bt-\b-c\bco\bon\bnf\bfi\big\bg(1) for additional discussion on how\r\n",
      "           the b\bbr\bra\ban\bnc\bch\bh.\b.<\b<n\bna\bam\bme\be>\b>.\b.r\bre\bem\bmo\bot\bte\be and b\bbr\bra\ban\bnc\bch\bh.\b.<\b<n\bna\bam\bme\be>\b>.\b.m\bme\ber\brg\bge\be options are used.\r\n",
      "\r\n",
      "       --no-track\r\n",
      "           Do not set up \"upstream\" configuration, even if the\r\n",
      "           branch.autoSetupMerge configuration variable is set.\r\n",
      "\r\n",
      "       --recurse-submodules\r\n",
      "           THIS OPTION IS EXPERIMENTAL! Causes the current command to recurse\r\n",
      "           into submodules if s\bsu\bub\bbm\bmo\bod\bdu\bul\ble\be.\b.p\bpr\bro\bop\bpa\bag\bga\bat\bte\beB\bBr\bra\ban\bnc\bch\bhe\bes\bs is enabled. See\r\n",
      "           s\bsu\bub\bbm\bmo\bod\bdu\bul\ble\be.\b.p\bpr\bro\bop\bpa\bag\bga\bat\bte\beB\bBr\bra\ban\bnc\bch\bhe\bes\bs in g\bgi\bit\bt-\b-c\bco\bon\bnf\bfi\big\bg(1). Currently, only\r\n",
      "           branch creation is supported.\r\n",
      "\r\n",
      "           When used in branch creation, a new branch <branchname> will be\r\n",
      "           created in the superproject and all of the submodules in the\r\n",
      "           superproject’s <start-point>. In submodules, the branch will point\r\n",
      "           to the submodule commit in the superproject’s <start-point> but the\r\n",
      "           branch’s tracking information will be set up based on the\r\n",
      "           submodule’s branches and remotes e.g.  g\bgi\bit\bt b\bbr\bra\ban\bnc\bch\bh\r\n",
      "           -\b--\b-r\bre\bec\bcu\bur\brs\bse\be-\b-s\bsu\bub\bbm\bmo\bod\bdu\bul\ble\bes\bs t\bto\bop\bpi\bic\bc o\bor\bri\big\bgi\bin\bn/\b/m\bma\bai\bin\bn will create the submodule\r\n",
      "           branch \"topic\" that points to the submodule commit in the\r\n",
      "           superproject’s \"origin/main\", but tracks the submodule’s\r\n",
      "           \"origin/main\".\r\n",
      "\r\n",
      "       --set-upstream\r\n",
      "           As this option had confusing syntax, it is no longer supported.\r\n",
      "           Please use -\b--\b-t\btr\bra\bac\bck\bk or -\b--\b-s\bse\bet\bt-\b-u\bup\bps\bst\btr\bre\bea\bam\bm-\b-t\bto\bo instead.\r\n",
      "\r\n",
      "       -u <upstream>, --set-upstream-to=<upstream>\r\n",
      "           Set up <branchname>'s tracking information so <upstream> is\r\n",
      "           considered <branchname>'s upstream branch. If no <branchname> is\r\n",
      "           specified, then it defaults to the current branch.\r\n",
      "\r\n",
      "       --unset-upstream\r\n",
      "           Remove the upstream information for <branchname>. If no branch is\r\n",
      "           specified it defaults to the current branch.\r\n",
      "\r\n",
      "       --edit-description\r\n",
      "           Open an editor and edit the text to explain what the branch is for,\r\n",
      "           to be used by various other commands (e.g.  f\bfo\bor\brm\bma\bat\bt-\b-p\bpa\bat\btc\bch\bh,\r\n",
      "           r\bre\beq\bqu\bue\bes\bst\bt-\b-p\bpu\bul\bll\bl, and m\bme\ber\brg\bge\be (if enabled)). Multi-line explanations may\r\n",
      "           be used.\r\n",
      "\r\n",
      "       --contains [<commit>]\r\n",
      "           Only list branches which contain the specified commit (HEAD if not\r\n",
      "           specified). Implies -\b--\b-l\bli\bis\bst\bt.\r\n",
      "\r\n",
      "       --no-contains [<commit>]\r\n",
      "           Only list branches which don’t contain the specified commit (HEAD\r\n",
      "           if not specified). Implies -\b--\b-l\bli\bis\bst\bt.\r\n",
      "\r\n",
      "       --merged [<commit>]\r\n",
      "           Only list branches whose tips are reachable from the specified\r\n",
      "           commit (HEAD if not specified). Implies -\b--\b-l\bli\bis\bst\bt.\r\n",
      "\r\n",
      "       --no-merged [<commit>]\r\n",
      "           Only list branches whose tips are not reachable from the specified\r\n",
      "           commit (HEAD if not specified). Implies -\b--\b-l\bli\bis\bst\bt.\r\n",
      "\r\n",
      "       <branchname>\r\n",
      "           The name of the branch to create or delete. The new branch name\r\n",
      "           must pass all checks defined by g\bgi\bit\bt-\b-c\bch\bhe\bec\bck\bk-\b-r\bre\bef\bf-\b-f\bfo\bor\brm\bma\bat\bt(1). Some of\r\n",
      "           these checks may restrict the characters allowed in a branch name.\r\n",
      "\r\n",
      "       <start-point>\r\n",
      "           The new branch head will point to this commit. It may be given as a\r\n",
      "           branch name, a commit-id, or a tag. If this option is omitted, the\r\n",
      "           current HEAD will be used instead.\r\n",
      "\r\n",
      "       <oldbranch>\r\n",
      "           The name of an existing branch to rename.\r\n",
      "\r\n",
      "       <newbranch>\r\n",
      "           The new name for an existing branch. The same restrictions as for\r\n",
      "           <branchname> apply.\r\n",
      "\r\n",
      "       --sort=<key>\r\n",
      "           Sort based on the key given. Prefix -\b- to sort in descending order\r\n",
      "           of the value. You may use the --sort=<key> option multiple times,\r\n",
      "           in which case the last key becomes the primary key. The keys\r\n",
      "           supported are the same as those in g\bgi\bit\bt f\bfo\bor\br-\b-e\bea\bac\bch\bh-\b-r\bre\bef\bf. Sort order\r\n",
      "           defaults to the value configured for the b\bbr\bra\ban\bnc\bch\bh.\b.s\bso\bor\brt\bt variable if\r\n",
      "           exists, or to sorting based on the full refname (including r\bre\bef\bfs\bs/\b/.\b..\b..\b.\r\n",
      "           prefix). This lists detached HEAD (if present) first, then local\r\n",
      "           branches and finally remote-tracking branches. See g\bgi\bit\bt-\b-c\bco\bon\bnf\bfi\big\bg(1).\r\n",
      "\r\n",
      "       --points-at <object>\r\n",
      "           Only list branches of the given object.\r\n",
      "\r\n",
      "       --format <format>\r\n",
      "           A string that interpolates %\b%(\b(f\bfi\bie\bel\bld\bdn\bna\bam\bme\be)\b) from a branch ref being\r\n",
      "           shown and the object it points at. The format is the same as that\r\n",
      "           of g\bgi\bit\bt-\b-f\bfo\bor\br-\b-e\bea\bac\bch\bh-\b-r\bre\bef\bf(1).\r\n",
      "\r\n",
      "C\bCO\bON\bNF\bFI\bIG\bGU\bUR\bRA\bAT\bTI\bIO\bON\bN\r\n",
      "       p\bpa\bag\bge\ber\br.\b.b\bbr\bra\ban\bnc\bch\bh is only respected when listing branches, i.e., when -\b--\b-l\bli\bis\bst\bt\r\n",
      "       is used or implied. The default is to use a pager. See g\bgi\bit\bt-\b-c\bco\bon\bnf\bfi\big\bg(1).\r\n",
      "\r\n",
      "       Everything above this line in this section isn’t included from the g\bgi\bit\bt-\b-\r\n",
      "       c\bco\bon\bnf\bfi\big\bg(1) documentation. The content that follows is the same as what’s\r\n",
      "       found there:\r\n",
      "\r\n",
      "       branch.autoSetupMerge\r\n",
      "           Tells _\bg_\bi_\bt _\bb_\br_\ba_\bn_\bc_\bh, _\bg_\bi_\bt _\bs_\bw_\bi_\bt_\bc_\bh and _\bg_\bi_\bt _\bc_\bh_\be_\bc_\bk_\bo_\bu_\bt to set up new\r\n",
      "           branches so that g\bgi\bit\bt-\b-p\bpu\bul\bll\bl(1) will appropriately merge from the\r\n",
      "           starting point branch. Note that even if this option is not set,\r\n",
      "           this behavior can be chosen per-branch using the -\b--\b-t\btr\bra\bac\bck\bk and\r\n",
      "           -\b--\b-n\bno\bo-\b-t\btr\bra\bac\bck\bk options. The valid settings are: f\bfa\bal\bls\bse\be — no automatic\r\n",
      "           setup is done; t\btr\bru\bue\be — automatic setup is done when the starting\r\n",
      "           point is a remote-tracking branch; a\bal\blw\bwa\bay\bys\bs —  automatic setup is\r\n",
      "           done when the starting point is either a local branch or\r\n",
      "           remote-tracking branch; i\bin\bnh\bhe\ber\bri\bit\bt — if the starting point has a\r\n",
      "           tracking configuration, it is copied to the new branch; s\bsi\bim\bmp\bpl\ble\be —\r\n",
      "           automatic setup is done only when the starting point is a\r\n",
      "           remote-tracking branch and the new branch has the same name as the\r\n",
      "           remote branch. This option defaults to true.\r\n",
      "\r\n",
      "       branch.autoSetupRebase\r\n",
      "           When a new branch is created with _\bg_\bi_\bt _\bb_\br_\ba_\bn_\bc_\bh, _\bg_\bi_\bt _\bs_\bw_\bi_\bt_\bc_\bh or _\bg_\bi_\bt\r\n",
      "           _\bc_\bh_\be_\bc_\bk_\bo_\bu_\bt that tracks another branch, this variable tells Git to set\r\n",
      "           up pull to rebase instead of merge (see \"branch.<name>.rebase\").\r\n",
      "           When n\bne\bev\bve\ber\br, rebase is never automatically set to true. When l\blo\boc\bca\bal\bl,\r\n",
      "           rebase is set to true for tracked branches of other local branches.\r\n",
      "           When r\bre\bem\bmo\bot\bte\be, rebase is set to true for tracked branches of\r\n",
      "           remote-tracking branches. When a\bal\blw\bwa\bay\bys\bs, rebase will be set to true\r\n",
      "           for all tracking branches. See \"branch.autoSetupMerge\" for details\r\n",
      "           on how to set up a branch to track another branch. This option\r\n",
      "           defaults to never.\r\n",
      "\r\n",
      "       branch.sort\r\n",
      "           This variable controls the sort ordering of branches when displayed\r\n",
      "           by g\bgi\bit\bt-\b-b\bbr\bra\ban\bnc\bch\bh(1). Without the \"--sort=<value>\" option provided, the\r\n",
      "           value of this variable will be used as the default. See g\bgi\bit\bt-\b-f\bfo\bor\br-\b-\r\n",
      "           e\bea\bac\bch\bh-\b-r\bre\bef\bf(1) field names for valid values.\r\n",
      "\r\n",
      "       branch.<name>.remote\r\n",
      "           When on branch <name>, it tells _\bg_\bi_\bt _\bf_\be_\bt_\bc_\bh and _\bg_\bi_\bt _\bp_\bu_\bs_\bh which remote\r\n",
      "           to fetch from/push to. The remote to push to may be overridden with\r\n",
      "           r\bre\bem\bmo\bot\bte\be.\b.p\bpu\bus\bsh\bhD\bDe\bef\bfa\bau\bul\blt\bt (for all branches). The remote to push to, for\r\n",
      "           the current branch, may be further overridden by\r\n",
      "           b\bbr\bra\ban\bnc\bch\bh.\b.<\b<n\bna\bam\bme\be>\b>.\b.p\bpu\bus\bsh\bhR\bRe\bem\bmo\bot\bte\be. If no remote is configured, or if you are\r\n",
      "           not on any branch and there is more than one remote defined in the\r\n",
      "           repository, it defaults to o\bor\bri\big\bgi\bin\bn for fetching and\r\n",
      "           r\bre\bem\bmo\bot\bte\be.\b.p\bpu\bus\bsh\bhD\bDe\bef\bfa\bau\bul\blt\bt for pushing. Additionally, .\b.  (a period) is the\r\n",
      "           current local repository (a dot-repository), see\r\n",
      "           b\bbr\bra\ban\bnc\bch\bh.\b.<\b<n\bna\bam\bme\be>\b>.\b.m\bme\ber\brg\bge\be's final note below.\r\n",
      "\r\n",
      "       branch.<name>.pushRemote\r\n",
      "           When on branch <name>, it overrides b\bbr\bra\ban\bnc\bch\bh.\b.<\b<n\bna\bam\bme\be>\b>.\b.r\bre\bem\bmo\bot\bte\be for\r\n",
      "           pushing. It also overrides r\bre\bem\bmo\bot\bte\be.\b.p\bpu\bus\bsh\bhD\bDe\bef\bfa\bau\bul\blt\bt for pushing from\r\n",
      "           branch <name>. When you pull from one place (e.g. your upstream)\r\n",
      "           and push to another place (e.g. your own publishing repository),\r\n",
      "           you would want to set r\bre\bem\bmo\bot\bte\be.\b.p\bpu\bus\bsh\bhD\bDe\bef\bfa\bau\bul\blt\bt to specify the remote to\r\n",
      "           push to for all branches, and use this option to override it for a\r\n",
      "           specific branch.\r\n",
      "\r\n",
      "       branch.<name>.merge\r\n",
      "           Defines, together with branch.<name>.remote, the upstream branch\r\n",
      "           for the given branch. It tells _\bg_\bi_\bt _\bf_\be_\bt_\bc_\bh/_\bg_\bi_\bt _\bp_\bu_\bl_\bl/_\bg_\bi_\bt _\br_\be_\bb_\ba_\bs_\be which\r\n",
      "           branch to merge and can also affect _\bg_\bi_\bt _\bp_\bu_\bs_\bh (see push.default).\r\n",
      "           When in branch <name>, it tells _\bg_\bi_\bt _\bf_\be_\bt_\bc_\bh the default refspec to be\r\n",
      "           marked for merging in FETCH_HEAD. The value is handled like the\r\n",
      "           remote part of a refspec, and must match a ref which is fetched\r\n",
      "           from the remote given by \"branch.<name>.remote\". The merge\r\n",
      "           information is used by _\bg_\bi_\bt _\bp_\bu_\bl_\bl (which at first calls _\bg_\bi_\bt _\bf_\be_\bt_\bc_\bh) to\r\n",
      "           lookup the default branch for merging. Without this option, _\bg_\bi_\bt\r\n",
      "           _\bp_\bu_\bl_\bl defaults to merge the first refspec fetched. Specify multiple\r\n",
      "           values to get an octopus merge. If you wish to setup _\bg_\bi_\bt _\bp_\bu_\bl_\bl so\r\n",
      "           that it merges into <name> from another branch in the local\r\n",
      "           repository, you can point branch.<name>.merge to the desired\r\n",
      "           branch, and use the relative path setting .\b.  (a period) for\r\n",
      "           branch.<name>.remote.\r\n",
      "\r\n",
      "       branch.<name>.mergeOptions\r\n",
      "           Sets default options for merging into branch <name>. The syntax and\r\n",
      "           supported options are the same as those of g\bgi\bit\bt-\b-m\bme\ber\brg\bge\be(1), but option\r\n",
      "           values containing whitespace characters are currently not\r\n",
      "           supported.\r\n",
      "\r\n",
      "       branch.<name>.rebase\r\n",
      "           When true, rebase the branch <name> on top of the fetched branch,\r\n",
      "           instead of merging the default branch from the default remote when\r\n",
      "           \"git pull\" is run. See \"pull.rebase\" for doing this in a non\r\n",
      "           branch-specific manner.\r\n",
      "\r\n",
      "           When m\bme\ber\brg\bge\bes\bs (or just _\bm), pass the -\b--\b-r\bre\beb\bba\bas\bse\be-\b-m\bme\ber\brg\bge\bes\bs option to _\bg_\bi_\bt\r\n",
      "           _\br_\be_\bb_\ba_\bs_\be so that the local merge commits are included in the rebase\r\n",
      "           (see g\bgi\bit\bt-\b-r\bre\beb\bba\bas\bse\be(1) for details).\r\n",
      "\r\n",
      "           When the value is i\bin\bnt\bte\ber\bra\bac\bct\bti\biv\bve\be (or just _\bi), the rebase is run in\r\n",
      "           interactive mode.\r\n",
      "\r\n",
      "           N\bNO\bOT\bTE\bE: this is a possibly dangerous operation; do n\bno\bot\bt use it unless\r\n",
      "           you understand the implications (see g\bgi\bit\bt-\b-r\bre\beb\bba\bas\bse\be(1) for details).\r\n",
      "\r\n",
      "       branch.<name>.description\r\n",
      "           Branch description, can be edited with g\bgi\bit\bt b\bbr\bra\ban\bnc\bch\bh\r\n",
      "           -\b--\b-e\bed\bdi\bit\bt-\b-d\bde\bes\bsc\bcr\bri\bip\bpt\bti\bio\bon\bn. Branch description is automatically added in\r\n",
      "           the format-patch cover letter or request-pull summary.\r\n",
      "\r\n",
      "E\bEX\bXA\bAM\bMP\bPL\bLE\bES\bS\r\n",
      "       Start development from a known tag\r\n",
      "\r\n",
      "               $ git clone git://git.kernel.org/pub/scm/.../linux-2.6 my2.6\r\n",
      "               $ cd my2.6\r\n",
      "               $ git branch my2.6.14 v2.6.14   (\b(1\b1)\b)\r\n",
      "               $ git switch my2.6.14\r\n",
      "\r\n",
      "           1\b1.\b. This step and the next one could be combined into a single step\r\n",
      "           with \"checkout -b my2.6.14 v2.6.14\".\r\n",
      "\r\n",
      "       Delete an unneeded branch\r\n",
      "\r\n",
      "               $ git clone git://git.kernel.org/.../git.git my.git\r\n",
      "               $ cd my.git\r\n",
      "               $ git branch -d -r origin/todo origin/html origin/man   (\b(1\b1)\b)\r\n",
      "               $ git branch -D test                                    (\b(2\b2)\b)\r\n",
      "\r\n",
      "           1\b1.\b. Delete the remote-tracking branches \"todo\", \"html\" and \"man\".\r\n",
      "           The next _\bf_\be_\bt_\bc_\bh or _\bp_\bu_\bl_\bl will create them again unless you configure\r\n",
      "           them not to. See g\bgi\bit\bt-\b-f\bfe\bet\btc\bch\bh(1).\r\n",
      "           2\b2.\b. Delete the \"test\" branch even if the \"master\" branch (or\r\n",
      "           whichever branch is currently checked out) does not have all\r\n",
      "           commits from the test branch.\r\n",
      "\r\n",
      "       Listing branches from a specific remote\r\n",
      "\r\n",
      "               $ git branch -r -l '<remote>/<pattern>'                 (\b(1\b1)\b)\r\n",
      "               $ git for-each-ref 'refs/remotes/<remote>/<pattern>'    (\b(2\b2)\b)\r\n",
      "\r\n",
      "           1\b1.\b. Using -\b-a\ba would conflate <remote> with any local branches you\r\n",
      "           happen to have been prefixed with the same <remote> pattern.\r\n",
      "           2\b2.\b. f\bfo\bor\br-\b-e\bea\bac\bch\bh-\b-r\bre\bef\bf can take a wide range of options. See g\bgi\bit\bt-\b-f\bfo\bor\br-\b-e\bea\bac\bch\bh-\b-\r\n",
      "           r\bre\bef\bf(1)\r\n",
      "\r\n",
      "       Patterns will normally need quoting.\r\n",
      "\r\n",
      "N\bNO\bOT\bTE\bES\bS\r\n",
      "       If you are creating a branch that you want to switch to immediately, it\r\n",
      "       is easier to use the \"git switch\" command with its -\b-c\bc option to do the\r\n",
      "       same thing with a single command.\r\n",
      "\r\n",
      "       The options -\b--\b-c\bco\bon\bnt\bta\bai\bin\bns\bs, -\b--\b-n\bno\bo-\b-c\bco\bon\bnt\bta\bai\bin\bns\bs, -\b--\b-m\bme\ber\brg\bge\bed\bd and -\b--\b-n\bno\bo-\b-m\bme\ber\brg\bge\bed\bd serve\r\n",
      "       four related but different purposes:\r\n",
      "\r\n",
      "       •   -\b--\b-c\bco\bon\bnt\bta\bai\bin\bns\bs <\b<c\bco\bom\bmm\bmi\bit\bt>\b> is used to find all branches which will need\r\n",
      "           special attention if <commit> were to be rebased or amended, since\r\n",
      "           those branches contain the specified <commit>.\r\n",
      "\r\n",
      "       •   -\b--\b-n\bno\bo-\b-c\bco\bon\bnt\bta\bai\bin\bns\bs <\b<c\bco\bom\bmm\bmi\bit\bt>\b> is the inverse of that, i.e. branches that\r\n",
      "           don’t contain the specified <commit>.\r\n",
      "\r\n",
      "       •   -\b--\b-m\bme\ber\brg\bge\bed\bd is used to find all branches which can be safely deleted,\r\n",
      "           since those branches are fully contained by HEAD.\r\n",
      "\r\n",
      "       •   -\b--\b-n\bno\bo-\b-m\bme\ber\brg\bge\bed\bd is used to find branches which are candidates for\r\n",
      "           merging into HEAD, since those branches are not fully contained by\r\n",
      "           HEAD.\r\n",
      "\r\n",
      "       When combining multiple -\b--\b-c\bco\bon\bnt\bta\bai\bin\bns\bs and -\b--\b-n\bno\bo-\b-c\bco\bon\bnt\bta\bai\bin\bns\bs filters, only\r\n",
      "       references that contain at least one of the -\b--\b-c\bco\bon\bnt\bta\bai\bin\bns\bs commits and\r\n",
      "       contain none of the -\b--\b-n\bno\bo-\b-c\bco\bon\bnt\bta\bai\bin\bns\bs commits are shown.\r\n",
      "\r\n",
      "       When combining multiple -\b--\b-m\bme\ber\brg\bge\bed\bd and -\b--\b-n\bno\bo-\b-m\bme\ber\brg\bge\bed\bd filters, only\r\n",
      "       references that are reachable from at least one of the -\b--\b-m\bme\ber\brg\bge\bed\bd commits\r\n",
      "       and from none of the -\b--\b-n\bno\bo-\b-m\bme\ber\brg\bge\bed\bd commits are shown.\r\n",
      "\r\n",
      "S\bSE\bEE\bE A\bAL\bLS\bSO\bO\r\n",
      "       g\bgi\bit\bt-\b-c\bch\bhe\bec\bck\bk-\b-r\bre\bef\bf-\b-f\bfo\bor\brm\bma\bat\bt(1), g\bgi\bit\bt-\b-f\bfe\bet\btc\bch\bh(1), g\bgi\bit\bt-\b-r\bre\bem\bmo\bot\bte\be(1), “\b“U\bUn\bnd\bde\ber\brs\bst\bta\ban\bnd\bdi\bin\bng\bg\r\n",
      "       h\bhi\bis\bst\bto\bor\bry\by:\b: W\bWh\bha\bat\bt i\bis\bs a\ba b\bbr\bra\ban\bnc\bch\bh?\b?”\b”[1] in the Git User’s Manual.\r\n",
      "\r\n",
      "G\bGI\bIT\bT\r\n",
      "       Part of the g\bgi\bit\bt(1) suite\r\n",
      "\r\n",
      "N\bNO\bOT\bTE\bES\bS\r\n",
      "        1. “Understanding history: What is a branch?”\r\n",
      "           file:///usr/share/doc/git/html/user-manual.html#what-is-a-branch\r\n",
      "\r\n",
      "Git 2.39.2                        02/23/2023                     GIT-BRANCH(1)\r\n"
     ]
    }
   ],
   "source": [
    "! git --help branch"
   ]
  },
  {
   "cell_type": "markdown",
   "metadata": {
    "id": "da6e3f66"
   },
   "source": [
    "## git config : Controls the behavior of git\n",
    "A few settings are in order. You don't have to do it now but it is recommanded.\n",
    "\n",
    "```bash\n",
    "$ git config --global user.name \"YOUR NAME\"\n",
    "$ git config --global user.email \"YOUR EMAIL\"\n",
    "```     "
   ]
  },
  {
   "cell_type": "code",
   "execution_count": 5,
   "metadata": {},
   "outputs": [],
   "source": [
    "!git config --global user.name \"emmanuelansah\""
   ]
  },
  {
   "cell_type": "code",
   "execution_count": 6,
   "metadata": {},
   "outputs": [],
   "source": [
    "!git config --global user.email \"emmanuel.ansah@aims.ac.rw\""
   ]
  },
  {
   "cell_type": "markdown",
   "metadata": {
    "id": "1b56ee4f"
   },
   "source": [
    "## git init : Creating a Local Repository\n",
    "\n",
    "To keep track of numerous versions of your work without saving numerous\n",
    "copies, you can make a local repository for it on your computer. What git\n",
    "does is to save the first version, then for each subsequent version it\n",
    "saves only the changes. This is the trick, git only records the difference between\n",
    "the new version and the one before it. With this compact information,\n",
    "git is able to recreate any version on demand by adding the changes to\n",
    "the original in order up to the version of interest.\n",
    "\n",
    "To create your own local (on your own machine) repository, you must\n",
    "initialize the repository with the infrastructure git needs in order to\n",
    "keep a record of things within the repository that you're concerned\n",
    "about. The command to do this is **git init** ."
   ]
  },
  {
   "cell_type": "code",
   "execution_count": 7,
   "metadata": {},
   "outputs": [
    {
     "name": "stdout",
     "output_type": "stream",
     "text": [
      "\u001b[33mhint: Using 'master' as the name for the initial branch. This default branch name\u001b[m\r\n",
      "\u001b[33mhint: is subject to change. To configure the initial branch name to use in all\u001b[m\r\n",
      "\u001b[33mhint: of your new repositories, which will suppress this warning, call:\u001b[m\r\n",
      "\u001b[33mhint: \u001b[m\r\n",
      "\u001b[33mhint: \tgit config --global init.defaultBranch <name>\u001b[m\r\n",
      "\u001b[33mhint: \u001b[m\r\n",
      "\u001b[33mhint: Names commonly chosen instead of 'master' are 'main', 'trunk' and\u001b[m\r\n",
      "\u001b[33mhint: 'development'. The just-created branch can be renamed via this command:\u001b[m\r\n",
      "\u001b[33mhint: \u001b[m\r\n",
      "\u001b[33mhint: \tgit branch -m <name>\u001b[m\r\n",
      "Initialized empty Git repository in /home/emmmanuel/Downloads/.git/\r\n"
     ]
    }
   ],
   "source": [
    "! git init"
   ]
  },
  {
   "cell_type": "markdown",
   "metadata": {
    "id": "884dc97c"
   },
   "source": [
    "* * * * \n",
    "### Practical : Create a Local Repository\n",
    "\n",
    "Step 1 : Initialize your repository. Navigate to `/home`\n",
    "\n",
    "```bash\n",
    "$ cd\n",
    "$ mkdir simplestats\n",
    "$ cd simplestats\n",
    "$ git init\n",
    "Initialized empty Git repository in /home/me/simplestats/.git/\n",
    "```\n"
   ]
  },
  {
   "cell_type": "code",
   "execution_count": 1,
   "metadata": {},
   "outputs": [],
   "source": [
    "!cd"
   ]
  },
  {
   "cell_type": "code",
   "execution_count": 25,
   "metadata": {},
   "outputs": [],
   "source": [
    "!mkdir simplestats"
   ]
  },
  {
   "cell_type": "code",
   "execution_count": 27,
   "metadata": {},
   "outputs": [],
   "source": []
  },
  {
   "cell_type": "code",
   "execution_count": 29,
   "metadata": {},
   "outputs": [
    {
     "name": "stdout",
     "output_type": "stream",
     "text": [
      "'01. Introduction, Sep 23.pdf'\r\n",
      "'02. Vectors, Sep 24.pdf'\r\n",
      " 0405476.pdf\r\n",
      " 1000-Solved-Problems-in-Classical-Physics-An-Exercise-EBook.pdf\r\n",
      " 19JKT2010.pdf\r\n",
      " aims.jpeg\r\n",
      " AIMS.png\r\n",
      " Assignment1_bash.pdf\r\n",
      " block2.pdf\r\n",
      " data.txt\r\n",
      " debian-binary\r\n",
      "'emmanuel_ansah_ICL1(1).sh'\r\n",
      " emmanuel_ansah_ICL1.sh\r\n",
      " emmanuel_ansah_ICL1.tex\r\n",
      " emmanuel_ansah_ICLRP-1.pdf\r\n",
      " emmanuel_ansah_ICLRP.pdf\r\n",
      " emmanuel_ansah_ICLRP.Rmd\r\n",
      " emmanuel_ansah_MPS2-1.pdf\r\n",
      " MagicSquares_851.svg\r\n",
      " magicsquarestalk.pdf\r\n",
      "'Microsoft Word - MAGIC-SQUARE.doc - MAGIC-SQUARE.pdf'\r\n",
      "'New Document 24-Sep-2024 19-48-55.pdf'\r\n",
      " odd_and_even.pdf\r\n",
      "'physical problem solving.pdf'\r\n",
      "'Physics S4 SB.pdf'\r\n",
      " PP_Assignment1.pdf\r\n",
      "'PPS Tutorial 1.pdf'\r\n",
      "'Problem Solving Through Problems.djvu'\r\n",
      " Rprogramming.pdf\r\n",
      " simplestats\r\n",
      " test-aims-rw-2024-25\r\n",
      " version_control_local.ipynb\r\n"
     ]
    }
   ],
   "source": [
    "!ls"
   ]
  },
  {
   "cell_type": "code",
   "execution_count": 29,
   "metadata": {},
   "outputs": [
    {
     "name": "stdout",
     "output_type": "stream",
     "text": [
      "[Errno 2] No such file or directory: 'simplestats'\n",
      "/home/emmmanuel\n"
     ]
    }
   ],
   "source": [
    "cd simplestats"
   ]
  },
  {
   "cell_type": "code",
   "execution_count": 36,
   "metadata": {},
   "outputs": [
    {
     "name": "stdout",
     "output_type": "stream",
     "text": [
      "/home/emmmanuel/Downloads/simplestats\r\n"
     ]
    }
   ],
   "source": [
    "!pwd"
   ]
  },
  {
   "cell_type": "code",
   "execution_count": 37,
   "metadata": {},
   "outputs": [
    {
     "name": "stdout",
     "output_type": "stream",
     "text": [
      "\u001b[33mhint: Using 'master' as the name for the initial branch. This default branch name\u001b[m\r\n",
      "\u001b[33mhint: is subject to change. To configure the initial branch name to use in all\u001b[m\r\n",
      "\u001b[33mhint: of your new repositories, which will suppress this warning, call:\u001b[m\r\n",
      "\u001b[33mhint: \u001b[m\r\n",
      "\u001b[33mhint: \tgit config --global init.defaultBranch <name>\u001b[m\r\n",
      "\u001b[33mhint: \u001b[m\r\n",
      "\u001b[33mhint: Names commonly chosen instead of 'master' are 'main', 'trunk' and\u001b[m\r\n",
      "\u001b[33mhint: 'development'. The just-created branch can be renamed via this command:\u001b[m\r\n",
      "\u001b[33mhint: \u001b[m\r\n",
      "\u001b[33mhint: \tgit branch -m <name>\u001b[m\r\n",
      "Initialized empty Git repository in /home/emmmanuel/Downloads/simplestats/.git/\r\n"
     ]
    }
   ],
   "source": [
    "!git init"
   ]
  },
  {
   "cell_type": "markdown",
   "metadata": {},
   "source": [
    "Step 2 : Browse the directory's hidden files to see what happened here.\n",
    "Open directories, browse file contents. Learn what you can in a minute.\n",
    "\n",
    "```bash\n",
    "$ ls -A .git\n",
    "$ cd .git\n",
    "$ ls -A\n",
    "HEAD        config      description hooks       info        objects     refs      branches\n",
    "```\n",
    "\n"
   ]
  },
  {
   "cell_type": "code",
   "execution_count": 38,
   "metadata": {},
   "outputs": [
    {
     "name": "stdout",
     "output_type": "stream",
     "text": [
      "branches  config  description  HEAD  hooks  info  objects  refs\r\n"
     ]
    }
   ],
   "source": [
    "! ls -A .git"
   ]
  },
  {
   "cell_type": "code",
   "execution_count": 3,
   "metadata": {},
   "outputs": [
    {
     "name": "stdout",
     "output_type": "stream",
     "text": [
      "/home/emmmanuel/Downloads/simplestats/.git\n"
     ]
    }
   ],
   "source": [
    " cd .git"
   ]
  },
  {
   "cell_type": "code",
   "execution_count": 42,
   "metadata": {},
   "outputs": [
    {
     "name": "stdout",
     "output_type": "stream",
     "text": [
      "/home/emmmanuel/Downloads/simplestats/.git\r\n"
     ]
    }
   ],
   "source": [
    "! pwd"
   ]
  },
  {
   "cell_type": "code",
   "execution_count": 20,
   "metadata": {},
   "outputs": [
    {
     "name": "stdout",
     "output_type": "stream",
     "text": [
      "branches  config  description  HEAD  hooks  info  objects  refs\r\n"
     ]
    }
   ],
   "source": [
    "!ls -A"
   ]
  },
  {
   "cell_type": "markdown",
   "metadata": {},
   "source": [
    "Step 3 : Use what you've learned. You may have noticed the file called description. You can describe your repository by opening the description file and replacing the text with a name for the repository.  We will be creating a module with some simple statistical methods, so mine will be called \"Some simple methods for statistical analysis\". You may call yours  anything you like.\n",
    "\n",
    "```bash\n",
    "$ nano description\n",
    "```"
   ]
  },
  {
   "cell_type": "code",
   "execution_count": 10,
   "metadata": {},
   "outputs": [],
   "source": [
    "!gedit description"
   ]
  },
  {
   "cell_type": "markdown",
   "metadata": {},
   "source": [
    "You can use `!tree` or `tree` to display the directory structure in a tree-like format"
   ]
  },
  {
   "cell_type": "code",
   "execution_count": 21,
   "metadata": {},
   "outputs": [
    {
     "name": "stdout",
     "output_type": "stream",
     "text": [
      "\u001b[01;34m.\u001b[00m\r\n",
      "├── \u001b[01;34mbranches\u001b[00m\r\n",
      "├── config\r\n",
      "├── description\r\n",
      "├── HEAD\r\n",
      "├── \u001b[01;34mhooks\u001b[00m\r\n",
      "│   ├── \u001b[01;32mapplypatch-msg.sample\u001b[00m\r\n",
      "│   ├── \u001b[01;32mcommit-msg.sample\u001b[00m\r\n",
      "│   ├── \u001b[01;32mfsmonitor-watchman.sample\u001b[00m\r\n",
      "│   ├── \u001b[01;32mpost-update.sample\u001b[00m\r\n",
      "│   ├── \u001b[01;32mpre-applypatch.sample\u001b[00m\r\n",
      "│   ├── \u001b[01;32mpre-commit.sample\u001b[00m\r\n",
      "│   ├── \u001b[01;32mpre-merge-commit.sample\u001b[00m\r\n",
      "│   ├── \u001b[01;32mprepare-commit-msg.sample\u001b[00m\r\n",
      "│   ├── \u001b[01;32mpre-push.sample\u001b[00m\r\n",
      "│   ├── \u001b[01;32mpre-rebase.sample\u001b[00m\r\n",
      "│   ├── \u001b[01;32mpre-receive.sample\u001b[00m\r\n",
      "│   ├── \u001b[01;32mpush-to-checkout.sample\u001b[00m\r\n",
      "│   └── \u001b[01;32mupdate.sample\u001b[00m\r\n",
      "├── \u001b[01;34minfo\u001b[00m\r\n",
      "│   └── exclude\r\n",
      "├── \u001b[01;34mobjects\u001b[00m\r\n",
      "│   ├── \u001b[01;34minfo\u001b[00m\r\n",
      "│   └── \u001b[01;34mpack\u001b[00m\r\n",
      "└── \u001b[01;34mrefs\u001b[00m\r\n",
      "    ├── \u001b[01;34mheads\u001b[00m\r\n",
      "    └── \u001b[01;34mtags\u001b[00m\r\n",
      "\r\n",
      "9 directories, 17 files\r\n"
     ]
    }
   ],
   "source": [
    "! tree"
   ]
  },
  {
   "cell_type": "markdown",
   "metadata": {
    "id": "8-rwgD5HbIdj"
   },
   "source": [
    "* * *  *\n",
    "An interesting command I would like you to test is `git status`, I will describe it later but let's see what it displays now.\n",
    "```bash\n",
    "$ git status\n",
    "On branch master\n",
    "\n",
    "No commits yet\n",
    "\n",
    "nothing to commit (create/copy files and use \"git add\" to track)\n",
    "```\n",
    "\n",
    "* * *  *\n"
   ]
  },
  {
   "cell_type": "code",
   "execution_count": 34,
   "metadata": {},
   "outputs": [
    {
     "name": "stdout",
     "output_type": "stream",
     "text": [
      "On branch master\r\n",
      "\r\n",
      "No commits yet\r\n",
      "\r\n",
      "nothing to commit (create/copy files and use \"git add\" to track)\r\n"
     ]
    }
   ],
   "source": [
    "! git status"
   ]
  },
  {
   "cell_type": "markdown",
   "metadata": {
    "id": "bdcfca76"
   },
   "source": [
    "## git add : Adding a File To Version Control\n",
    "\n",
    "For the git repository to know which files within this directory you\n",
    "would like to keep track of, you must add them. First, you'll need to\n",
    "create one, then we'll learn the **git add** command."
   ]
  },
  {
   "cell_type": "markdown",
   "metadata": {
    "id": "a6f520a2"
   },
   "source": [
    "* * * * \n",
    "### Practical : Add a File to Your Local Repository\n",
    "\n",
    "Step 1 : Create a file to add to your repository.\n",
    "\n",
    "```bash\n",
    "$ touch README.md\n",
    "```\n",
    "\n"
   ]
  },
  {
   "cell_type": "code",
   "execution_count": 3,
   "metadata": {},
   "outputs": [
    {
     "name": "stdout",
     "output_type": "stream",
     "text": [
      "README.md\r\n"
     ]
    }
   ],
   "source": [
    "ls"
   ]
  },
  {
   "cell_type": "code",
   "execution_count": 36,
   "metadata": {},
   "outputs": [],
   "source": [
    "! touch README.md"
   ]
  },
  {
   "cell_type": "markdown",
   "metadata": {},
   "source": [
    "Step 2: Verify that git has seen the file.\n",
    "\n",
    "```bash\n",
    "$ git status\n",
    "# On branch master\n",
    "\n",
    "# No commits yet\n",
    "\n",
    "# Untracked files:\n",
    "#(use \"git add <file>...\" to include in what will be committed) README.md\n",
    "\n",
    "# nothing added to commit but untracked files present (use \"git add\" to track)\n",
    "```\n"
   ]
  },
  {
   "cell_type": "code",
   "execution_count": 37,
   "metadata": {},
   "outputs": [
    {
     "name": "stdout",
     "output_type": "stream",
     "text": [
      "On branch master\r\n",
      "\r\n",
      "No commits yet\r\n",
      "\r\n",
      "Untracked files:\r\n",
      "  (use \"git add <file>...\" to include in what will be committed)\r\n",
      "\t\u001b[31mREADME.md\u001b[m\r\n",
      "\r\n",
      "nothing added to commit but untracked files present (use \"git add\" to track)\r\n"
     ]
    }
   ],
   "source": [
    "! git status"
   ]
  },
  {
   "cell_type": "markdown",
   "metadata": {},
   "source": [
    "\n",
    "Step 3 : Inform git that you would like to keep track of future changes\n",
    "in this file.\n",
    "\n",
    "```bash\n",
    "$ git add README.md\n",
    "```"
   ]
  },
  {
   "cell_type": "code",
   "execution_count": 38,
   "metadata": {},
   "outputs": [],
   "source": [
    "! git add README.md"
   ]
  },
  {
   "cell_type": "markdown",
   "metadata": {
    "id": "31901d46"
   },
   "source": [
    "## git status : Checking the status of your local copy\n",
    "\n",
    "The files you've created on your machine are your local \"working\" copy.\n",
    "The changes your make in this local copy aren't backed up online\n",
    "automatically. Until you commit them, the changes you make are local\n",
    "changes. When you change anything, your set of files becomes different\n",
    "from the files in the official repository copy. To find out what's\n",
    "different about them in the terminal, try:\n",
    "\n",
    "```bash\n",
    "$ git status\n",
    "# On branch master\n",
    "#\n",
    "# No commits yet\n",
    "#\n",
    "# Changes to be committed:\n",
    "#   (use \"git rm --cached <file>...\" to unstage)\n",
    "#\n",
    "#       new file:   README.md\n",
    "#\n",
    "```\n",
    "\n",
    "The null result means that you're up to date with the current version of\n",
    "the repository online. This result indicates that the current difference\n",
    "between the repository HEAD (which, so far, is empty) and your\n",
    "`simplestats` directory is this new README.md file."
   ]
  },
  {
   "cell_type": "code",
   "execution_count": 39,
   "metadata": {},
   "outputs": [
    {
     "name": "stdout",
     "output_type": "stream",
     "text": [
      "On branch master\r\n",
      "\r\n",
      "No commits yet\r\n",
      "\r\n",
      "Changes to be committed:\r\n",
      "  (use \"git rm --cached <file>...\" to unstage)\r\n",
      "\t\u001b[32mnew file:   README.md\u001b[m\r\n",
      "\r\n"
     ]
    }
   ],
   "source": [
    "! git status"
   ]
  },
  {
   "cell_type": "markdown",
   "metadata": {
    "id": "5c0466af"
   },
   "source": [
    "## git commit : Saving a snapshot\n",
    "\n",
    "In order to save a snapshot of the current state (revision) of the\n",
    "repository, we use the commit command. This command is always associated\n",
    "with a message describing the changes since the last commit and\n",
    "indicating their purpose. Informative commit messages will serve you\n",
    "well someday, so make a habit of never committing changes without at\n",
    "least a full sentence description.\n",
    "\n",
    "**ADVICE: Commit often**\n",
    "\n",
    "In the same way that it is wise to often save a document that you are\n",
    "working on, so too is it wise to save numerous revisions of your code.\n",
    "More frequent commits increase the granularity of your **undo** button.\n",
    "\n",
    "**ADVICE: Good commit messages**\n",
    "\n",
    "There are no hard and fast rules, but good commits are atomic: they are the smallest change that remain meaningful. A good commit message usually contains a one-line description followed by a longer explanation if necessary.\n"
   ]
  },
  {
   "cell_type": "markdown",
   "metadata": {
    "id": "ad25127c"
   },
   "source": [
    "* * * \n",
    "### Practical : Commit Your Changes\n",
    "\n",
    "Step 1 : Commit the file you've added to your repository.\n",
    "\n",
    "```bash\n",
    "$ git commit -am \"This is the first commit. It adds a readme file.\"\n",
    "  [master (root-commit) 664867c] This is the first commit. It adds a readme file.\n",
    "  1 file changed, 0 insertions(+), 0 deletions(-)\n",
    "  create mode 100644 readme.md\n",
    "```  "
   ]
  },
  {
   "cell_type": "code",
   "execution_count": 40,
   "metadata": {},
   "outputs": [
    {
     "name": "stdout",
     "output_type": "stream",
     "text": [
      "[master (root-commit) 6479e5f] This is the first commit. It adds a readme file.\r\n",
      " 1 file changed, 0 insertions(+), 0 deletions(-)\r\n",
      " create mode 100644 README.md\r\n"
     ]
    }
   ],
   "source": [
    "!  git commit -am \"This is the first commit. It adds a readme file.\""
   ]
  },
  {
   "cell_type": "markdown",
   "metadata": {},
   "source": [
    "Step 2 : Admire your work.\n",
    "\n",
    "```bash\n",
    "$ git status\n",
    "# On branch master\n",
    "nothing to commit, working tree clean\n",
    "```"
   ]
  },
  {
   "cell_type": "code",
   "execution_count": 41,
   "metadata": {},
   "outputs": [
    {
     "name": "stdout",
     "output_type": "stream",
     "text": [
      "On branch master\r\n",
      "nothing to commit, working tree clean\r\n"
     ]
    }
   ],
   "source": [
    "! git status"
   ]
  },
  {
   "cell_type": "markdown",
   "metadata": {
    "id": "46cbed6f"
   },
   "source": [
    "## git diff : Viewing the Differences\n",
    "\n",
    "There are many diff tools.\n",
    "\n",
    "If you have a favorite you can set your default git diff tool to execute that one. Git, however, comes with its own diff system.\n",
    "\n",
    "Let's recall the behavior of the linux [`diff`](https://www.geeksforgeeks.org/diff-command-linux-examples/) command on the command line. The equivalent command for windows is [fc](https://www.howtogeek.com/206123/how-to-use-fc-file-compare-from-the-windows-command-prompt/). Choosing two files that are similar, the command:\n",
    "\n",
    "```bash\n",
    "$!diff file1 file2\n",
    "```\n",
    "\n",
    "will output the lines that differ between the two files. This information can be saved as what's known as a patch, but we won't go deeply into that just now.\n"
   ]
  },
  {
   "cell_type": "markdown",
   "metadata": {},
   "source": [
    "The only difference between the command line diff tool and git's diff tool is that the git tool is aware of all of the revisions in your repository, allowing each revision of each file to be treated as a full file.\n",
    "\n",
    "\n",
    "Thus, git diff will output the changes in your working directory that are not yet staged for a commit. To see how this works, make a change in your `README.md` file, but don't yet commit it.\n",
    "\n",
    "```bash\n",
    "$ git diff\n",
    "```"
   ]
  },
  {
   "cell_type": "code",
   "execution_count": 42,
   "metadata": {},
   "outputs": [],
   "source": [
    "! gedit README.md"
   ]
  },
  {
   "cell_type": "code",
   "execution_count": 43,
   "metadata": {},
   "outputs": [
    {
     "name": "stdout",
     "output_type": "stream",
     "text": [
      "\u001b[1mdiff --git a/README.md b/README.md\u001b[m\r\n",
      "\u001b[1mindex e69de29..49116d9 100644\u001b[m\r\n",
      "\u001b[1m--- a/README.md\u001b[m\r\n",
      "\u001b[1m+++ b/README.md\u001b[m\r\n",
      "\u001b[36m@@ -0,0 +1 @@\u001b[m\r\n",
      "\u001b[32m+\u001b[m\u001b[32mStatistical analysis of the growth of crops.\u001b[m\r\n"
     ]
    }
   ],
   "source": [
    "! git diff"
   ]
  },
  {
   "cell_type": "markdown",
   "metadata": {},
   "source": [
    "A summarized version of this output can be output with the `--stat` flag :\n",
    "\n",
    "```bash\n",
    "$ git diff --stat\n",
    "```"
   ]
  },
  {
   "cell_type": "markdown",
   "metadata": {},
   "source": [
    "To see only the differences in a certain path, try:\n",
    "\n",
    "```bash\n",
    "$ git diff HEAD -- [path]\n",
    "```"
   ]
  },
  {
   "cell_type": "code",
   "execution_count": 44,
   "metadata": {},
   "outputs": [
    {
     "name": "stdout",
     "output_type": "stream",
     "text": [
      "\u001b[1mdiff --git a/README.md b/README.md\u001b[m\r\n",
      "\u001b[1mindex e69de29..49116d9 100644\u001b[m\r\n",
      "\u001b[1m--- a/README.md\u001b[m\r\n",
      "\u001b[1m+++ b/README.md\u001b[m\r\n",
      "\u001b[36m@@ -0,0 +1 @@\u001b[m\r\n",
      "\u001b[32m+\u001b[m\u001b[32mStatistical analysis of the growth of crops.\u001b[m\r\n"
     ]
    }
   ],
   "source": [
    "! git diff HEAD"
   ]
  },
  {
   "cell_type": "markdown",
   "metadata": {},
   "source": [
    "To see what IS staged for commit (that is, what will be committed if you\n",
    "type git commit without the -a flag), you can try :\n",
    "```bash\n",
    "$ git diff --cached\n",
    "```"
   ]
  },
  {
   "cell_type": "code",
   "execution_count": 4,
   "metadata": {},
   "outputs": [],
   "source": [
    "! git diff --cached"
   ]
  },
  {
   "cell_type": "markdown",
   "metadata": {
    "id": "181eb736"
   },
   "source": [
    "## git log : Viewing the History\n",
    "\n",
    "A log of the commit messages is kept by the repository and can be\n",
    "reviewed with the log command.\n",
    "\n",
    "```bash\n",
    "    $ git log       \n",
    "   commit 664867c42a05461702388310155b785a287d0308 (HEAD -> master)\n",
    "    Author: Techni Preneurs <ai.technipreneurs@gmail.com>\n",
    "    Date:   Wed Sep 11 20:31:07 2024 +0200\n",
    "\n",
    "        This is the first commit. It adds a readme file.    \n",
    "```\n"
   ]
  },
  {
   "cell_type": "code",
   "execution_count": 5,
   "metadata": {},
   "outputs": [
    {
     "name": "stdout",
     "output_type": "stream",
     "text": [
      "\u001b[33mcommit 6479e5fa4333f794e1e94407272b650dbfd6fe13\u001b[m\u001b[33m (\u001b[m\u001b[1;36mHEAD -> \u001b[m\u001b[1;32mmaster\u001b[m\u001b[33m)\u001b[m\r\n",
      "Author: emmanuelansah <emmanuel.ansah@aims.ac.rw>\r\n",
      "Date:   Thu Sep 26 12:28:07 2024 +0200\r\n",
      "\r\n",
      "    This is the first commit. It adds a readme file.\r\n"
     ]
    }
   ],
   "source": [
    "! git log"
   ]
  },
  {
   "cell_type": "markdown",
   "metadata": {},
   "source": [
    "There are some useful flags for this command, such as\n",
    "\n",
    "    -p\n",
    "    -3\n",
    "    --stat\n",
    "    --oneline\n",
    "    --graph\n",
    "    --pretty=short/full/fuller/oneline\n",
    "    --since=X.minutes/hours/days/weeks/months/years or YY-MM-DD-HH:MM\n",
    "    --until=X.minutes/hours/days/weeks/months/years or YY-MM-DD-HH:MM\n",
    "    --author=<pattern>"
   ]
  },
  {
   "cell_type": "markdown",
   "metadata": {
    "id": "8f0edce4"
   },
   "source": [
    "## git reset : Unstaging a staged file\n",
    "\n",
    "There are a number of ways that you may accidentally stage a file that\n",
    "you don't want to commit.  Create a file called `temp_notes` that\n",
    "describes what you had for breakfast, and then add that file to your\n",
    "repo.  Check with `status` to see that it is added but not committed.\n",
    "\n",
    "You can now unstage that file with:\n",
    "\n",
    "```bash\n",
    "$ git reset temp_notes\n",
    "```\n",
    "\n",
    "Check with `status`."
   ]
  },
  {
   "cell_type": "code",
   "execution_count": 6,
   "metadata": {},
   "outputs": [
    {
     "name": "stdout",
     "output_type": "stream",
     "text": [
      "/home/emmmanuel/Downloads/simplestats\r\n"
     ]
    }
   ],
   "source": [
    "!pwd"
   ]
  },
  {
   "cell_type": "code",
   "execution_count": 7,
   "metadata": {},
   "outputs": [],
   "source": [
    "! touch temp_notes"
   ]
  },
  {
   "cell_type": "code",
   "execution_count": 8,
   "metadata": {},
   "outputs": [],
   "source": [
    "!gedit temp_notes"
   ]
  },
  {
   "cell_type": "code",
   "execution_count": 9,
   "metadata": {},
   "outputs": [],
   "source": [
    "! git add temp_notes"
   ]
  },
  {
   "cell_type": "code",
   "execution_count": 10,
   "metadata": {},
   "outputs": [
    {
     "name": "stdout",
     "output_type": "stream",
     "text": [
      "On branch master\r\n",
      "Changes to be committed:\r\n",
      "  (use \"git restore --staged <file>...\" to unstage)\r\n",
      "\t\u001b[32mnew file:   temp_notes\u001b[m\r\n",
      "\r\n",
      "Changes not staged for commit:\r\n",
      "  (use \"git add <file>...\" to update what will be committed)\r\n",
      "  (use \"git restore <file>...\" to discard changes in working directory)\r\n",
      "\t\u001b[31mmodified:   README.md\u001b[m\r\n",
      "\r\n"
     ]
    }
   ],
   "source": [
    "! git status"
   ]
  },
  {
   "cell_type": "code",
   "execution_count": 11,
   "metadata": {},
   "outputs": [
    {
     "name": "stdout",
     "output_type": "stream",
     "text": [
      "Unstaged changes after reset:\r\n",
      "M\tREADME.md\r\n"
     ]
    }
   ],
   "source": [
    "!git reset temp_notes"
   ]
  },
  {
   "cell_type": "code",
   "execution_count": 12,
   "metadata": {},
   "outputs": [
    {
     "name": "stdout",
     "output_type": "stream",
     "text": [
      "On branch master\r\n",
      "Changes not staged for commit:\r\n",
      "  (use \"git add <file>...\" to update what will be committed)\r\n",
      "  (use \"git restore <file>...\" to discard changes in working directory)\r\n",
      "\t\u001b[31mmodified:   README.md\u001b[m\r\n",
      "\r\n",
      "Untracked files:\r\n",
      "  (use \"git add <file>...\" to include in what will be committed)\r\n",
      "\t\u001b[31mtemp_notes\u001b[m\r\n",
      "\r\n",
      "no changes added to commit (use \"git add\" and/or \"git commit -a\")\r\n"
     ]
    }
   ],
   "source": [
    "! git status"
   ]
  },
  {
   "cell_type": "markdown",
   "metadata": {
    "id": "f949535f"
   },
   "source": [
    "## git checkout : Discarding unstaged modifications (git checkout has other purposes)\n",
    "\n",
    "Perhaps you have made a number of changes that you realize are not\n",
    "going anywhere.  Add a line to `README.md` that describes your dinner\n",
    "last night.  Check with `status` to see that the file is changed and\n",
    "ready to be added.\n",
    "\n",
    "You can now return to previous checked in version with:\n",
    "```bash\n",
    "$ git checkout -- README.md\n",
    "```\n",
    "Check with `status` and take a look at the file."
   ]
  },
  {
   "cell_type": "code",
   "execution_count": 13,
   "metadata": {},
   "outputs": [],
   "source": [
    "! gedit README.md"
   ]
  },
  {
   "cell_type": "code",
   "execution_count": 14,
   "metadata": {},
   "outputs": [
    {
     "name": "stdout",
     "output_type": "stream",
     "text": [
      "On branch master\r\n",
      "Changes not staged for commit:\r\n",
      "  (use \"git add <file>...\" to update what will be committed)\r\n",
      "  (use \"git restore <file>...\" to discard changes in working directory)\r\n",
      "\t\u001b[31mmodified:   README.md\u001b[m\r\n",
      "\r\n",
      "Untracked files:\r\n",
      "  (use \"git add <file>...\" to include in what will be committed)\r\n",
      "\t\u001b[31mtemp_notes\u001b[m\r\n",
      "\r\n",
      "no changes added to commit (use \"git add\" and/or \"git commit -a\")\r\n"
     ]
    }
   ],
   "source": [
    "! git status "
   ]
  },
  {
   "cell_type": "code",
   "execution_count": 15,
   "metadata": {},
   "outputs": [],
   "source": [
    "! git checkout -- README.md"
   ]
  },
  {
   "cell_type": "code",
   "execution_count": 16,
   "metadata": {},
   "outputs": [
    {
     "name": "stdout",
     "output_type": "stream",
     "text": [
      "On branch master\r\n",
      "Untracked files:\r\n",
      "  (use \"git add <file>...\" to include in what will be committed)\r\n",
      "\t\u001b[31mtemp_notes\u001b[m\r\n",
      "\r\n",
      "nothing added to commit but untracked files present (use \"git add\" to track)\r\n"
     ]
    }
   ],
   "source": [
    "! git status"
   ]
  },
  {
   "cell_type": "markdown",
   "metadata": {
    "id": "7b00e29e"
   },
   "source": [
    "## git rm : Removing files\n",
    "\n",
    "There are a variety of reasons you way want to remove a file from the\n",
    "repository after it has been committed.  Create a file called `READYOU.md` with the first names of all your immediate family members, and add/commit it to the repository.\n",
    "\n",
    "You can now remove the file from the repository with:\n",
    "\n",
    "```bash\n",
    "$ git rm READYOU.md\n",
    "```\n",
    "List the directory to see that you have no file named `READYOU.md`. Use `status` to determine if you need any additional steps."
   ]
  },
  {
   "cell_type": "code",
   "execution_count": 17,
   "metadata": {},
   "outputs": [],
   "source": [
    "! touch READYOU.md"
   ]
  },
  {
   "cell_type": "code",
   "execution_count": 18,
   "metadata": {},
   "outputs": [],
   "source": [
    "! gedit READYOU.md"
   ]
  },
  {
   "cell_type": "code",
   "execution_count": 19,
   "metadata": {},
   "outputs": [],
   "source": [
    "! git add READYOU.md"
   ]
  },
  {
   "cell_type": "code",
   "execution_count": 20,
   "metadata": {},
   "outputs": [
    {
     "name": "stdout",
     "output_type": "stream",
     "text": [
      "On branch master\r\n",
      "Changes to be committed:\r\n",
      "  (use \"git restore --staged <file>...\" to unstage)\r\n",
      "\t\u001b[32mnew file:   READYOU.md\u001b[m\r\n",
      "\r\n",
      "Untracked files:\r\n",
      "  (use \"git add <file>...\" to include in what will be committed)\r\n",
      "\t\u001b[31mtemp_notes\u001b[m\r\n",
      "\r\n"
     ]
    }
   ],
   "source": [
    "! git status"
   ]
  },
  {
   "cell_type": "code",
   "execution_count": 22,
   "metadata": {},
   "outputs": [
    {
     "name": "stdout",
     "output_type": "stream",
     "text": [
      "[master e69571c] My family\r\n",
      " 1 file changed, 1 insertion(+)\r\n",
      " create mode 100644 READYOU.md\r\n"
     ]
    }
   ],
   "source": [
    "! git commit -am \"My family\""
   ]
  },
  {
   "cell_type": "code",
   "execution_count": 23,
   "metadata": {},
   "outputs": [
    {
     "name": "stdout",
     "output_type": "stream",
     "text": [
      "rm 'READYOU.md'\r\n"
     ]
    }
   ],
   "source": [
    "! git rm READYOU.md"
   ]
  },
  {
   "cell_type": "code",
   "execution_count": 24,
   "metadata": {},
   "outputs": [
    {
     "name": "stdout",
     "output_type": "stream",
     "text": [
      "README.md  temp_notes\r\n"
     ]
    }
   ],
   "source": [
    "!ls"
   ]
  },
  {
   "cell_type": "markdown",
   "metadata": {},
   "source": [
    "What if you delete a file in the shell without `git rm`? Try deleting `README.md`\n",
    "```bash\n",
    "$ rm README.md\n",
    "```\n",
    "\n",
    "\n"
   ]
  },
  {
   "cell_type": "code",
   "execution_count": 25,
   "metadata": {},
   "outputs": [],
   "source": [
    "! rm README.md"
   ]
  },
  {
   "cell_type": "markdown",
   "metadata": {},
   "source": [
    "What does `git status` say?  Oops! How can you recover this important\n",
    "file?\n",
    "```bash\n",
    "$ git checkout -- README.md\n",
    "```"
   ]
  },
  {
   "cell_type": "code",
   "execution_count": 26,
   "metadata": {},
   "outputs": [
    {
     "name": "stdout",
     "output_type": "stream",
     "text": [
      "On branch master\r\n",
      "Changes to be committed:\r\n",
      "  (use \"git restore --staged <file>...\" to unstage)\r\n",
      "\t\u001b[32mdeleted:    READYOU.md\u001b[m\r\n",
      "\r\n",
      "Changes not staged for commit:\r\n",
      "  (use \"git add/rm <file>...\" to update what will be committed)\r\n",
      "  (use \"git restore <file>...\" to discard changes in working directory)\r\n",
      "\t\u001b[31mdeleted:    README.md\u001b[m\r\n",
      "\r\n",
      "Untracked files:\r\n",
      "  (use \"git add <file>...\" to include in what will be committed)\r\n",
      "\t\u001b[31mtemp_notes\u001b[m\r\n",
      "\r\n"
     ]
    }
   ],
   "source": [
    "! git status"
   ]
  },
  {
   "cell_type": "code",
   "execution_count": 27,
   "metadata": {},
   "outputs": [],
   "source": [
    "! git checkout -- README.md"
   ]
  },
  {
   "cell_type": "code",
   "execution_count": 28,
   "metadata": {},
   "outputs": [
    {
     "name": "stdout",
     "output_type": "stream",
     "text": [
      "README.md  temp_notes\r\n"
     ]
    }
   ],
   "source": [
    "! ls"
   ]
  },
  {
   "cell_type": "markdown",
   "metadata": {
    "id": "1d3ecc05"
   },
   "source": [
    "## git revert : the promised \"undo\" button\n",
    "\n",
    "It is possible that after many commits, you decide that you really want to **rollback** a set of commits and start over.  It is easy to revert your code to a previous version.\n",
    "\n",
    "You can use `git log` and `git diff` to explore your history and determine which version you are interested in.  Choose a version and note the *hash* for that version. (Let's assume `abc456`)\n",
    "\n",
    "```bash\n",
    "$ git revert abc456\n",
    "```\n",
    "\n",
    "**Importantly,** this will not erase the intervening commits.  This will create a new commit that is changed from the previous commit by a change that will recreate the desired version.  This retains a complete provenance of your software, and be compared to the prohibition in removing pages from a lab notebook."
   ]
  },
  {
   "cell_type": "code",
   "execution_count": 4,
   "metadata": {},
   "outputs": [
    {
     "name": "stdout",
     "output_type": "stream",
     "text": [
      "\u001b[33mcommit e69571cbb50515c7757945afab23c8cae8e75f30\u001b[m\u001b[33m (\u001b[m\u001b[1;36mHEAD -> \u001b[m\u001b[1;32mmaster\u001b[m\u001b[33m)\u001b[m\r\n",
      "Author: emmanuelansah <emmanuel.ansah@aims.ac.rw>\r\n",
      "Date:   Thu Sep 26 16:53:25 2024 +0200\r\n",
      "\r\n",
      "    My family\r\n",
      "\r\n",
      "\u001b[33mcommit 6479e5fa4333f794e1e94407272b650dbfd6fe13\u001b[m\r\n",
      "Author: emmanuelansah <emmanuel.ansah@aims.ac.rw>\r\n",
      "Date:   Thu Sep 26 12:28:07 2024 +0200\r\n",
      "\r\n",
      "    This is the first commit. It adds a readme file.\r\n"
     ]
    }
   ],
   "source": [
    "! git log"
   ]
  },
  {
   "cell_type": "code",
   "execution_count": 7,
   "metadata": {},
   "outputs": [],
   "source": [
    "! git diff"
   ]
  },
  {
   "cell_type": "markdown",
   "metadata": {},
   "source": [
    "## Visualize Git Log Tree\n",
    "For this section, you can read the necessary information [here](https://tech.serhatteker.com/post/2021-02/git-log-tree/). The idea is just to make your commits a bit fancy. To really see the beauty of it, try to play with your files and do quite a number of commits.\n",
    "\n",
    "```bash\n",
    "$ git log\n",
    "```\n",
    "\n",
    "or \n",
    "\n",
    "```bash\n",
    "$ git log --pretty=oneline\n",
    "```\n",
    "\n",
    "or\n",
    "\n",
    "```bash\n",
    "$ git log --graph --pretty='%Cred%h%Creset -%C(auto)%d%Creset %s %Cgreen(%cr) %C(bold blue)<%an>%Creset' --all\n",
    "```"
   ]
  },
  {
   "cell_type": "code",
   "execution_count": 8,
   "metadata": {},
   "outputs": [
    {
     "name": "stdout",
     "output_type": "stream",
     "text": [
      "\u001b[33me69571cbb50515c7757945afab23c8cae8e75f30\u001b[m\u001b[33m (\u001b[m\u001b[1;36mHEAD -> \u001b[m\u001b[1;32mmaster\u001b[m\u001b[33m)\u001b[m My family\r\n",
      "\u001b[33m6479e5fa4333f794e1e94407272b650dbfd6fe13\u001b[m This is the first commit. It adds a readme file.\r\n"
     ]
    }
   ],
   "source": [
    "!git log --pretty=oneline"
   ]
  },
  {
   "cell_type": "code",
   "execution_count": 9,
   "metadata": {},
   "outputs": [
    {
     "name": "stdout",
     "output_type": "stream",
     "text": [
      "* \u001b[31me69571c\u001b[m -\u001b[m\u001b[33m (\u001b[m\u001b[1;36mHEAD -> \u001b[m\u001b[1;32mmaster\u001b[m\u001b[33m)\u001b[m\u001b[m My family \u001b[32m(19 minutes ago) \u001b[1;34m<emmanuelansah>\u001b[m\r\n",
      "* \u001b[31m6479e5f\u001b[m -\u001b[m\u001b[m This is the first commit. It adds a readme file. \u001b[32m(5 hours ago) \u001b[1;34m<emmanuelansah>\u001b[m\r\n"
     ]
    }
   ],
   "source": [
    "! git log --graph --pretty='%Cred%h%Creset -%C(auto)%d%Creset %s %Cgreen(%cr) %C(bold blue)<%an>%Creset' --all"
   ]
  },
  {
   "cell_type": "markdown",
   "metadata": {
    "id": "a60621d6"
   },
   "source": [
    "* * * *\n",
    "### Exercise :\n",
    "\n",
    "1. Create 5 files in your directory with one line of content in each\n",
    "   file.\n",
    "2. Commit the files to the repository.\n",
    "3. Change 2 of the 5 files and commit them.\n",
    "4. Undo the changes in step 3.\n",
    "5. Print out the last entry in the log.\n",
    "    \n",
    "* * * *"
   ]
  },
  {
   "cell_type": "markdown",
   "metadata": {},
   "source": [
    "**Create 5 files in your directory with one line of content in each file.**"
   ]
  },
  {
   "cell_type": "code",
   "execution_count": 11,
   "metadata": {},
   "outputs": [],
   "source": [
    "! touch file1.txt"
   ]
  },
  {
   "cell_type": "code",
   "execution_count": 16,
   "metadata": {},
   "outputs": [],
   "source": [
    "! gedit file1.txt"
   ]
  },
  {
   "cell_type": "code",
   "execution_count": 12,
   "metadata": {},
   "outputs": [],
   "source": [
    "! touch file2.txt"
   ]
  },
  {
   "cell_type": "code",
   "execution_count": 18,
   "metadata": {},
   "outputs": [],
   "source": [
    "! gedit file2.txt"
   ]
  },
  {
   "cell_type": "code",
   "execution_count": 13,
   "metadata": {},
   "outputs": [],
   "source": [
    "! touch file3.txt"
   ]
  },
  {
   "cell_type": "code",
   "execution_count": 14,
   "metadata": {},
   "outputs": [],
   "source": [
    "! touch file4.txt"
   ]
  },
  {
   "cell_type": "code",
   "execution_count": 15,
   "metadata": {},
   "outputs": [],
   "source": [
    "! touch file5.txt"
   ]
  },
  {
   "cell_type": "code",
   "execution_count": 19,
   "metadata": {},
   "outputs": [],
   "source": [
    "! git add file1.txt file2.txt file3.txt file4.txt file5.txt"
   ]
  },
  {
   "cell_type": "code",
   "execution_count": 20,
   "metadata": {},
   "outputs": [
    {
     "name": "stdout",
     "output_type": "stream",
     "text": [
      "On branch master\r\n",
      "Changes to be committed:\r\n",
      "  (use \"git restore --staged <file>...\" to unstage)\r\n",
      "\t\u001b[32mdeleted:    READYOU.md\u001b[m\r\n",
      "\t\u001b[32mnew file:   file1.txt\u001b[m\r\n",
      "\t\u001b[32mnew file:   file2.txt\u001b[m\r\n",
      "\t\u001b[32mnew file:   file3.txt\u001b[m\r\n",
      "\t\u001b[32mnew file:   file4.txt\u001b[m\r\n",
      "\t\u001b[32mnew file:   file5.txt\u001b[m\r\n",
      "\r\n",
      "Untracked files:\r\n",
      "  (use \"git add <file>...\" to include in what will be committed)\r\n",
      "\t\u001b[31mtemp_notes\u001b[m\r\n",
      "\r\n"
     ]
    }
   ],
   "source": [
    "! git status"
   ]
  },
  {
   "cell_type": "code",
   "execution_count": 21,
   "metadata": {},
   "outputs": [
    {
     "name": "stdout",
     "output_type": "stream",
     "text": [
      "[master 0f9471e] My exercise files\r\n",
      " 6 files changed, 2 insertions(+), 1 deletion(-)\r\n",
      " delete mode 100644 READYOU.md\r\n",
      " create mode 100644 file1.txt\r\n",
      " create mode 100644 file2.txt\r\n",
      " create mode 100644 file3.txt\r\n",
      " create mode 100644 file4.txt\r\n",
      " create mode 100644 file5.txt\r\n"
     ]
    }
   ],
   "source": [
    "! git commit -m \"My exercise files\""
   ]
  },
  {
   "cell_type": "code",
   "execution_count": 5,
   "metadata": {},
   "outputs": [],
   "source": [
    "!gedit file1.txt"
   ]
  },
  {
   "cell_type": "code",
   "execution_count": 6,
   "metadata": {},
   "outputs": [],
   "source": [
    "!gedit file2.txt"
   ]
  },
  {
   "cell_type": "code",
   "execution_count": 7,
   "metadata": {},
   "outputs": [
    {
     "name": "stdout",
     "output_type": "stream",
     "text": [
      "On branch master\r\n",
      "Changes not staged for commit:\r\n",
      "  (use \"git add <file>...\" to update what will be committed)\r\n",
      "  (use \"git restore <file>...\" to discard changes in working directory)\r\n",
      "\t\u001b[31mmodified:   file1.txt\u001b[m\r\n",
      "\t\u001b[31mmodified:   file2.txt\u001b[m\r\n",
      "\r\n",
      "Untracked files:\r\n",
      "  (use \"git add <file>...\" to include in what will be committed)\r\n",
      "\t\u001b[31mtemp_notes\u001b[m\r\n",
      "\r\n",
      "no changes added to commit (use \"git add\" and/or \"git commit -a\")\r\n"
     ]
    }
   ],
   "source": [
    "! git status"
   ]
  },
  {
   "cell_type": "code",
   "execution_count": 12,
   "metadata": {
    "scrolled": true
   },
   "outputs": [
    {
     "name": "stdout",
     "output_type": "stream",
     "text": [
      "On branch master\r\n",
      "Changes not staged for commit:\r\n",
      "  (use \"git add <file>...\" to update what will be committed)\r\n",
      "  (use \"git restore <file>...\" to discard changes in working directory)\r\n",
      "\t\u001b[31mmodified:   file1.txt\u001b[m\r\n",
      "\t\u001b[31mmodified:   file2.txt\u001b[m\r\n",
      "\r\n",
      "Untracked files:\r\n",
      "  (use \"git add <file>...\" to include in what will be committed)\r\n",
      "\t\u001b[31mtemp_notes\u001b[m\r\n",
      "\r\n",
      "no changes added to commit (use \"git add\" and/or \"git commit -a\")\r\n"
     ]
    }
   ],
   "source": [
    "! git commit -m \"My new edits\""
   ]
  },
  {
   "cell_type": "code",
   "execution_count": 13,
   "metadata": {},
   "outputs": [
    {
     "name": "stdout",
     "output_type": "stream",
     "text": [
      "On branch master\r\n",
      "Changes not staged for commit:\r\n",
      "  (use \"git add <file>...\" to update what will be committed)\r\n",
      "  (use \"git restore <file>...\" to discard changes in working directory)\r\n",
      "\t\u001b[31mmodified:   file1.txt\u001b[m\r\n",
      "\t\u001b[31mmodified:   file2.txt\u001b[m\r\n",
      "\r\n",
      "Untracked files:\r\n",
      "  (use \"git add <file>...\" to include in what will be committed)\r\n",
      "\t\u001b[31mtemp_notes\u001b[m\r\n",
      "\r\n",
      "no changes added to commit (use \"git add\" and/or \"git commit -a\")\r\n"
     ]
    }
   ],
   "source": [
    "!git status"
   ]
  },
  {
   "cell_type": "code",
   "execution_count": 14,
   "metadata": {},
   "outputs": [
    {
     "name": "stdout",
     "output_type": "stream",
     "text": [
      "\u001b[33mcommit 0f9471ed4b792187d3b3b65cca9bd8eca2123189\u001b[m\u001b[33m (\u001b[m\u001b[1;36mHEAD -> \u001b[m\u001b[1;32mmaster\u001b[m\u001b[33m)\u001b[m\r\n",
      "Author: emmanuelansah <emmanuel.ansah@aims.ac.rw>\r\n",
      "Date:   Thu Sep 26 18:31:20 2024 +0200\r\n",
      "\r\n",
      "    My exercise files\r\n",
      "\r\n",
      "\u001b[33mcommit e69571cbb50515c7757945afab23c8cae8e75f30\u001b[m\r\n",
      "Author: emmanuelansah <emmanuel.ansah@aims.ac.rw>\r\n",
      "Date:   Thu Sep 26 16:53:25 2024 +0200\r\n",
      "\r\n",
      "    My family\r\n",
      "\r\n",
      "\u001b[33mcommit 6479e5fa4333f794e1e94407272b650dbfd6fe13\u001b[m\r\n",
      "Author: emmanuelansah <emmanuel.ansah@aims.ac.rw>\r\n",
      "Date:   Thu Sep 26 12:28:07 2024 +0200\r\n",
      "\r\n",
      "    This is the first commit. It adds a readme file.\r\n"
     ]
    }
   ],
   "source": [
    "! git log"
   ]
  },
  {
   "cell_type": "code",
   "execution_count": 15,
   "metadata": {},
   "outputs": [
    {
     "name": "stdout",
     "output_type": "stream",
     "text": [
      "error: Your local changes to the following files would be overwritten by merge:\r\n",
      "\tfile1.txt\r\n",
      "\tfile2.txt\r\n",
      "Please commit your changes or stash them before you merge.\r\n",
      "Aborting\r\n",
      "fatal: revert failed\r\n"
     ]
    }
   ],
   "source": [
    "! git revert 0f9471ed4b792187d3b3b65cca9bd8eca2123189"
   ]
  },
  {
   "cell_type": "markdown",
   "metadata": {
    "id": "15b9e659"
   },
   "source": [
    "## Resources\n",
    "\n",
    "1. [git book](http://git-scm.com/book) - Free and Open"
   ]
  }
 ],
 "metadata": {
  "colab": {
   "provenance": []
  },
  "kernelspec": {
   "display_name": "Python 3",
   "language": "python",
   "name": "python3"
  },
  "language_info": {
   "codemirror_mode": {
    "name": "ipython",
    "version": 3
   },
   "file_extension": ".py",
   "mimetype": "text/x-python",
   "name": "python",
   "nbconvert_exporter": "python",
   "pygments_lexer": "ipython3",
   "version": "3.9.2"
  }
 },
 "nbformat": 4,
 "nbformat_minor": 1
}
