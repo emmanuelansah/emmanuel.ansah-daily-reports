{
 "cells": [
  {
   "cell_type": "markdown",
   "id": "international-scene",
   "metadata": {},
   "source": [
    "# Compute the following expressions for a natural number n chosen by the user:"
   ]
  },
  {
   "cell_type": "code",
   "execution_count": 16,
   "id": "spatial-depth",
   "metadata": {
    "scrolled": true
   },
   "outputs": [
    {
     "name": "stdout",
     "output_type": "stream",
     "text": [
      "what value of n do you want5\n",
      "1\n",
      "3\n",
      "10\n"
     ]
    }
   ],
   "source": [
    "n= int(input(\"what value of n do you want:\"))\n",
    "add=0\n",
    "for  i in range(n) :\n",
    "    if ( i % 2 != 0 ):\n",
    "        add += i+3\n",
    "        print(i)\n",
    "print(add)"
   ]
  },
  {
   "cell_type": "code",
   "execution_count": 24,
   "id": "every-oregon",
   "metadata": {},
   "outputs": [
    {
     "name": "stdout",
     "output_type": "stream",
     "text": [
      "what value of n do you want:5\n",
      "3\n",
      "15\n",
      "105\n",
      "105\n"
     ]
    }
   ],
   "source": [
    "n= int(input(\"what value of n do you want:\"))\n",
    "d=0\n",
    "prod=1\n",
    "for  i in range(n) :\n",
    "    if ( i % 2 == 0 ):\n",
    "        prod *= (i+3)\n",
    "        print(prod)\n",
    "print(prod)"
   ]
  },
  {
   "cell_type": "markdown",
   "id": "nominated-season",
   "metadata": {},
   "source": [
    "# Write a program that reads the number of the day of the week (from 0 to 6). If it is aworking day, then the program will write the name of the corresponding day. Otherwise,it will write the word \"Weekend\"."
   ]
  },
  {
   "cell_type": "code",
   "execution_count": 30,
   "id": "controlling-ethiopia",
   "metadata": {},
   "outputs": [
    {
     "name": "stdout",
     "output_type": "stream",
     "text": [
      "Enter a number 0 to 6 for the day of the week5\n",
      "Friday\n"
     ]
    }
   ],
   "source": [
    "d=int(input(\"Enter a number 0 to 6 for the day of the week\"))\n",
    "if (d == 0):\n",
    "    print(\"Sunday is a Weekend\")\n",
    "elif (d == 1):\n",
    "    print(\"Monday\")\n",
    "elif (d == 2):\n",
    "    print(\"Tuesday\")\n",
    "elif (d == 3):\n",
    "    print(\"Wednesday\")\n",
    "elif (d == 4):\n",
    "    print(\"Thursday\")\n",
    "elif (d == 5):\n",
    "    print(\"Friday\")\n",
    "else: \n",
    "    print(\"Saturday is a Weekend.\")    \n",
    "    "
   ]
  },
  {
   "cell_type": "markdown",
   "id": "typical-singing",
   "metadata": {},
   "source": [
    "# Make a program that, given a month number (from 0 to 11), indicates how many days it has (28, 30 or 31), ignoring the leap years."
   ]
  },
  {
   "cell_type": "code",
   "execution_count": 32,
   "id": "subsequent-footwear",
   "metadata": {},
   "outputs": [
    {
     "name": "stdout",
     "output_type": "stream",
     "text": [
      "Enter a number 0 to 11 for any given month9\n",
      "October has 31 days \n"
     ]
    }
   ],
   "source": [
    "d=int(input(\"Enter a number 0 to 11 for any given month\"))\n",
    "if (d == 0):\n",
    "    print(\"January has 31 days\")\n",
    "elif (d == 1):\n",
    "    print(\"February has 28 days\")\n",
    "elif (d == 2):\n",
    "    print(\"March has 31 days\")\n",
    "elif (d == 3):\n",
    "    print(\"April has 30 days\")\n",
    "elif (d == 4):\n",
    "    print(\"May has 31 days\")\n",
    "elif (d == 5):\n",
    "    print(\"June has 30 days\")\n",
    "elif (d == 6):\n",
    "    print(\"July has 31 days\")\n",
    "elif (d == 7):\n",
    "    print(\"August has 31 days\")\n",
    "elif (d == 8):\n",
    "    print(\"September has 30 days\")\n",
    "elif (d == 9):\n",
    "    print(\"October has 31 days \")\n",
    "elif (d == 10):\n",
    "    print(\"November has 30 days\")    \n",
    "else: \n",
    "    print(\"December has 31 days\")    \n",
    "    "
   ]
  },
  {
   "cell_type": "markdown",
   "id": "superior-pharmaceutical",
   "metadata": {},
   "source": [
    "Write two versions of python code that displays your name 3 times. One version with a\n",
    "\"for loop\" and another version with a \"while loop\"."
   ]
  },
  {
   "cell_type": "code",
   "execution_count": 35,
   "id": "formed-flashing",
   "metadata": {},
   "outputs": [
    {
     "name": "stdout",
     "output_type": "stream",
     "text": [
      "Emmanuel Ansah\n",
      "Emmanuel Ansah\n",
      "Emmanuel Ansah\n"
     ]
    }
   ],
   "source": [
    "for i in range (3):\n",
    "    print(\"Emmanuel Ansah\")"
   ]
  },
  {
   "cell_type": "code",
   "execution_count": 37,
   "id": "corporate-title",
   "metadata": {},
   "outputs": [
    {
     "name": "stdout",
     "output_type": "stream",
     "text": [
      "Emmanuel Ansah\n",
      "Emmanuel Ansah\n",
      "Emmanuel Ansah\n"
     ]
    }
   ],
   "source": [
    "i=0\n",
    "while i < 3:\n",
    "    print(\"Emmanuel Ansah\")\n",
    "    i=i+1"
   ]
  },
  {
   "cell_type": "markdown",
   "id": "standard-ireland",
   "metadata": {},
   "source": [
    "# Given two numbers $a_0$ and $a_1$ , the Fibonacci sequence they generate is constructed from the recursion formula $a_{n+1} = a_n + a_{n−1}$ . Calculate the first 15 terms of a Fibonacci sequence, asking the user the initial values."
   ]
  },
  {
   "cell_type": "code",
   "execution_count": 40,
   "id": "plastic-seafood",
   "metadata": {},
   "outputs": [
    {
     "name": "stdout",
     "output_type": "stream",
     "text": [
      "Enter a value for a0 :1\n",
      "Enter a value for a1 :1\n",
      "1\n",
      "1\n",
      "2\n",
      "5\n",
      "12\n",
      "29\n",
      "70\n",
      "169\n",
      "408\n",
      "985\n",
      "2378\n",
      "5741\n",
      "13860\n",
      "33461\n",
      "80782\n",
      "195025\n"
     ]
    }
   ],
   "source": [
    "a0=int(input(\"Enter a value for a0 :\"))\n",
    "a1=int(input(\"Enter a value for a1 :\"))\n",
    "print(a0)\n",
    "print(a1)\n",
    "an=0\n",
    "for i in range(14):\n",
    "    an+=a0 + a1\n",
    "    print(an)\n",
    "    a0=a1\n",
    "    a1=an    \n",
    "\n"
   ]
  },
  {
   "cell_type": "markdown",
   "id": "pleasant-negative",
   "metadata": {},
   "source": [
    "# Compute the first 30 terms of the sequence defined by$ 2x_{n+2} − x_{n+1} − 6x_n = 0$ sequence, given any two initial values $x _0$ and $x_1$"
   ]
  },
  {
   "cell_type": "code",
   "execution_count": 63,
   "id": "union-needle",
   "metadata": {},
   "outputs": [
    {
     "name": "stdout",
     "output_type": "stream",
     "text": [
      "Enter x0: 2\n",
      "Enter x1: 3\n",
      "The first 30 terms are: [2, 3, 7, 12, 27, 49, 105, 199, 414, 804, 1644, 3234, 6549, 12976, 26135, 51995, 104402, 208186, 417299, 833207, 1668500, 3333871, 6672435, 13337830, 26686220, 53356600, 106736960, 213438280, 426930020, 853779850]\n"
     ]
    }
   ],
   "source": [
    "x0 = int(input(\"Enter x0: \"))\n",
    "x1 = int(input(\"Enter x1: \"))\n",
    "s = [x0, x1]\n",
    "for i in range(2, 30):\n",
    "    next_term = (s[i-1] + 6 * s[i-2]) // 2\n",
    "    s.append(next_term)\n",
    "print(f\"The first 30 terms are: {s}\")\n",
    "\n",
    "\n"
   ]
  },
  {
   "cell_type": "markdown",
   "id": "italian-minutes",
   "metadata": {},
   "source": [
    "# a) Write python code that computes the sum of the square of the first n natural numbers. One version with a \"for loop\" and another version with a \"while loop\"."
   ]
  },
  {
   "cell_type": "code",
   "execution_count": 50,
   "id": "shared-mercy",
   "metadata": {},
   "outputs": [
    {
     "name": "stdout",
     "output_type": "stream",
     "text": [
      "Enter value for n:3\n",
      "5\n"
     ]
    }
   ],
   "source": [
    "n=int(input(\"Enter value for n:\"))\n",
    "a=0\n",
    "for i in range (n):\n",
    "    a+= i**2 \n",
    "print(a)"
   ]
  },
  {
   "cell_type": "code",
   "execution_count": 51,
   "id": "dimensional-soldier",
   "metadata": {},
   "outputs": [
    {
     "name": "stdout",
     "output_type": "stream",
     "text": [
      "Enter value for n:3\n",
      "5\n"
     ]
    }
   ],
   "source": [
    "n=int(input(\"Enter value for n:\"))\n",
    "i=0\n",
    "a=0\n",
    "while i < n:\n",
    "    a += i**2\n",
    "    i= i+1\n",
    "print(a)    "
   ]
  },
  {
   "cell_type": "markdown",
   "id": "transsexual-spirit",
   "metadata": {},
   "source": [
    "# Write a program that prints all the numbers between 0 and 40 that are multiples of 3, 7 or 11."
   ]
  },
  {
   "cell_type": "code",
   "execution_count": 52,
   "id": "following-desert",
   "metadata": {},
   "outputs": [
    {
     "name": "stdout",
     "output_type": "stream",
     "text": [
      "0\n",
      "3\n",
      "6\n",
      "7\n",
      "9\n",
      "11\n",
      "12\n",
      "14\n",
      "15\n",
      "18\n",
      "21\n",
      "22\n",
      "24\n",
      "27\n",
      "28\n",
      "30\n",
      "33\n",
      "35\n",
      "36\n",
      "39\n"
     ]
    }
   ],
   "source": [
    "for i in range(40):\n",
    "    if (i%3==0 or i%7==0 or i%11==0):\n",
    "        print(i)"
   ]
  },
  {
   "cell_type": "markdown",
   "id": "collect-command",
   "metadata": {},
   "source": [
    "# Read an integer number between 0 and 9 and print its multiplication table up to N where N is another another natural number read by the program."
   ]
  },
  {
   "cell_type": "code",
   "execution_count": 54,
   "id": "basic-tonight",
   "metadata": {},
   "outputs": [
    {
     "name": "stdout",
     "output_type": "stream",
     "text": [
      "Enter a number from 0 to 9:9\n",
      "Enter the number of multiples you want12\n",
      "9 * 0 is : 0\n",
      "9 * 1 is : 9\n",
      "9 * 2 is : 18\n",
      "9 * 3 is : 27\n",
      "9 * 4 is : 36\n",
      "9 * 5 is : 45\n",
      "9 * 6 is : 54\n",
      "9 * 7 is : 63\n",
      "9 * 8 is : 72\n",
      "9 * 9 is : 81\n",
      "9 * 10 is : 90\n",
      "9 * 11 is : 99\n"
     ]
    }
   ],
   "source": [
    "m=int(input(\"Enter a number from 0 to 9:\"))\n",
    "n=int(input(\"Enter the number of multiples you want\"))\n",
    "for i in range(n):\n",
    "    print(f\"{m} * {i} is :\",m*i )\n"
   ]
  },
  {
   "cell_type": "markdown",
   "id": "incorrect-honduras",
   "metadata": {},
   "source": [
    "# Given a point in the plane by its Cartesian coordinates, determine in which quadrant it is (1st, 2nd, 3rd, 4th), if it lies on an axis, or if it is the origin. Do this for several points in the same execution of the program until the user quits."
   ]
  },
  {
   "cell_type": "code",
   "execution_count": 56,
   "id": "dental-address",
   "metadata": {},
   "outputs": [
    {
     "name": "stdout",
     "output_type": "stream",
     "text": [
      "Enter x co0rdinate:-2\n",
      "Enter y coordinate:5\n",
      "2nd Quadrant\n"
     ]
    }
   ],
   "source": [
    "x=int(input(\"Enter x co0rdinate:\"))\n",
    "y=int(input(\"Enter y coordinate:\"))\n",
    "if x == 0 and y == 0:\n",
    "    print(\"Origin\")\n",
    "elif x == 0:\n",
    "    print(\"On the y-axis\")\n",
    "elif y == 0:\n",
    "    print(\"On the x-axis\")\n",
    "elif x > 0 and y > 0:\n",
    "    print(\"1st Quadrant\")\n",
    "elif x < 0 and y > 0:\n",
    "    print(\"2nd Quadrant\")\n",
    "elif x < 0 and y < 0:\n",
    "    print(\"3rd Quadrant\")\n",
    "else:\n",
    "    print(\"4th Quadrant\")\n"
   ]
  },
  {
   "cell_type": "markdown",
   "id": "streaming-tunisia",
   "metadata": {},
   "source": [
    "# Ask for an integer number between 0 and 9, denoted x. Once the user has entered a correctnumber (that is one in the range [0..10)) the program asks for a second integer number between 0 and 255, denoted max. The program continues asking for the number until it is correct (that it is in the range [0..256)). When this is done, show all multiples of x thatare between 0 and max. Then, ask the user whether he/she wants to continue; if in the affirmative, ask for another couple of numbers, otherwise finish."
   ]
  },
  {
   "cell_type": "code",
   "execution_count": 61,
   "id": "developing-oriental",
   "metadata": {},
   "outputs": [
    {
     "name": "stdout",
     "output_type": "stream",
     "text": [
      "Enter a number between 0 and 9: 6\n",
      "Enter a number between 0 and 255: 123\n",
      "Multiples of 6 up to 123: [6, 12, 18, 24, 30, 36, 42, 48, 54, 60, 66, 72, 78, 84, 90, 96, 102, 108, 114, 120]\n",
      "Do you want to continue? (yes/no): yes\n",
      "Enter a number between 0 and 9: 4\n",
      "Enter a number between 0 and 255: 125\n",
      "Multiples of 4 up to 125: [4, 8, 12, 16, 20, 24, 28, 32, 36, 40, 44, 48, 52, 56, 60, 64, 68, 72, 76, 80, 84, 88, 92, 96, 100, 104, 108, 112, 116, 120, 124]\n",
      "Do you want to continue? (yes/no): no\n"
     ]
    }
   ],
   "source": [
    "while True:\n",
    "    x = int(input(\"Enter a number between 0 and 9: \"))\n",
    "    if 0 <= x <= 9:\n",
    "        max = int(input(\"Enter a number between 0 and 255: \"))\n",
    "        if 0 <= max_value <= 255:\n",
    "            m = [i for i in range(x, max+1, x)]\n",
    "            print(f\"Multiples of {x} up to {max}: {m}\")\n",
    "        else:\n",
    "            print(\"Invalid max value. Enter a number between 0 and 255.\")\n",
    "    else:\n",
    "        print(\"Invalid x value. Enter a number between 0 and 9.\")\n",
    "    \n",
    "    cont = input(\"Do you want to continue? (yes/no): \").lower()\n",
    "    if cont != \"yes\":\n",
    "        break\n"
   ]
  },
  {
   "cell_type": "markdown",
   "id": "found-kernel",
   "metadata": {},
   "source": [
    "# Write python code that prints the floor of a float x. Recall that the floor of a float x is the largest integer value less than or equal to x, i.e. if $E[x]$ is the floor of x, then it satisfies, $E[x]$ = $1 + E[x − 1]$ PS: On Friday, you will be asked to write a recursive version of the above program."
   ]
  },
  {
   "cell_type": "code",
   "execution_count": 64,
   "id": "brown-mobility",
   "metadata": {},
   "outputs": [
    {
     "name": "stdout",
     "output_type": "stream",
     "text": [
      "Enter a float value: 25.99\n",
      "Floor of 25.99 is 25\n"
     ]
    }
   ],
   "source": [
    "import math\n",
    "x = float(input(\"Enter a float value: \"))\n",
    "print(f\"Floor of {x} is {math.floor(x)}\")\n"
   ]
  },
  {
   "cell_type": "markdown",
   "id": "municipal-harvard",
   "metadata": {},
   "source": [
    "# a) Write python code that prints all the divisors of a given natural number. "
   ]
  },
  {
   "cell_type": "code",
   "execution_count": 70,
   "id": "disciplinary-venezuela",
   "metadata": {
    "scrolled": true
   },
   "outputs": [
    {
     "name": "stdout",
     "output_type": "stream",
     "text": [
      "Enter a number: 234\n",
      "Divisors of 234: [1, 2, 3, 6, 9, 13, 18, 26, 39, 78, 117, 234]\n"
     ]
    }
   ],
   "source": [
    "n = int(input(\"Enter a number: \"))\n",
    "d = [i for i in range(1, n+1) if n % i == 0]\n",
    "print(f\"Divisors of {n}: {d}\")\n"
   ]
  },
  {
   "cell_type": "markdown",
   "id": "handy-coupon",
   "metadata": {},
   "source": [
    "# b) Read an integer number input by the user and calculate its prime factors. This will just be some of its divisors."
   ]
  },
  {
   "cell_type": "code",
   "execution_count": 69,
   "id": "stone-module",
   "metadata": {},
   "outputs": [
    {
     "name": "stdout",
     "output_type": "stream",
     "text": [
      "Enter an integer: 120\n",
      "Prime factors of 5: [2, 2, 2, 3, 5]\n"
     ]
    }
   ],
   "source": [
    "n = int(input(\"Enter an integer: \"))\n",
    "i = 2\n",
    "factors = []\n",
    "\n",
    "while i * i <= n:\n",
    "    if n % i:\n",
    "        i += 1\n",
    "    else:\n",
    "        n //= i\n",
    "        factors.append(i)\n",
    "\n",
    "if n > 1:\n",
    "    factors.append(n)\n",
    "\n",
    "print(f\"Prime factors of {n}: {factors}\")\n"
   ]
  },
  {
   "cell_type": "markdown",
   "id": "supported-intake",
   "metadata": {},
   "source": [
    "# a) Write python code to determine whether or not a year is a leap year. Be sure you know what a leap year is.\n",
    "# b) Write the code using only logical operators, i.e. no conditional branching."
   ]
  },
  {
   "cell_type": "code",
   "execution_count": 71,
   "id": "differential-aaron",
   "metadata": {},
   "outputs": [
    {
     "name": "stdout",
     "output_type": "stream",
     "text": [
      "Enter a year: 2004\n",
      "2004 is a leap year.\n"
     ]
    }
   ],
   "source": [
    "year = int(input(\"Enter a year: \"))\n",
    "if (year % 4 == 0 and year % 100 != 0) or (year % 400 == 0):\n",
    "    print(f\"{year} is a leap year.\")\n",
    "else:\n",
    "    print(f\"{year} is not a leap year.\")\n"
   ]
  }
 ],
 "metadata": {
  "kernelspec": {
   "display_name": "Python 3",
   "language": "python",
   "name": "python3"
  },
  "language_info": {
   "codemirror_mode": {
    "name": "ipython",
    "version": 3
   },
   "file_extension": ".py",
   "mimetype": "text/x-python",
   "name": "python",
   "nbconvert_exporter": "python",
   "pygments_lexer": "ipython3",
   "version": "3.9.2"
  }
 },
 "nbformat": 4,
 "nbformat_minor": 5
}
