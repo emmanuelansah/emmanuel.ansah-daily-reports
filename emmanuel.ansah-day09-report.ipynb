{
 "cells": [
  {
   "cell_type": "markdown",
   "id": "circular-cross",
   "metadata": {},
   "source": [
    "# PyPro: challenge 1\n"
   ]
  },
  {
   "cell_type": "markdown",
   "id": "comprehensive-least",
   "metadata": {},
   "source": [
    "**1** Create a function find_max() that accepts two numeric inputs and returns the greater value. Avoid using the built-in max() function."
   ]
  },
  {
   "cell_type": "code",
   "execution_count": 4,
   "id": "blond-street",
   "metadata": {},
   "outputs": [
    {
     "name": "stdout",
     "output_type": "stream",
     "text": [
      "Enter first number -56.45\n",
      "Enter second number -67.897\n",
      "-56.45 is greater than -67.897\n"
     ]
    }
   ],
   "source": [
    "def find_max():\n",
    "    x=float(input(\"Enter first number \"))\n",
    "    y=float(input(\"Enter second number \"))\n",
    "    if (x > y):\n",
    "        print(x, \"is greater than\", y)\n",
    "    else:\n",
    "        print(y, \"is greater than\", x)\n",
    "find_max()        "
   ]
  },
  {
   "cell_type": "markdown",
   "id": "maritime-prescription",
   "metadata": {},
   "source": [
    "**2** Develop a function find_max_of_three() to find the maximum among three given numbers"
   ]
  },
  {
   "cell_type": "code",
   "execution_count": 7,
   "id": "apparent-socket",
   "metadata": {},
   "outputs": [
    {
     "name": "stdout",
     "output_type": "stream",
     "text": [
      "Enter first number: 45\n",
      "Enter second number: 65\n",
      "Enter third number: -99\n",
      "65.0 is the maximum\n"
     ]
    }
   ],
   "source": [
    "def find_max_of_three():\n",
    "    x=float(input(\"Enter first number: \"))\n",
    "    y=float(input(\"Enter second number: \"))\n",
    "    z=float(input(\"Enter third number: \"))\n",
    "    if (x > y and x > z):\n",
    "        print(x, \"is the maximum\")\n",
    "    elif (y > x and y > z):\n",
    "        print(y, \"is the maximum\")\n",
    "    else:\n",
    "        print(z, \"is the maximum\")\n",
    "find_max_of_three()        "
   ]
  },
  {
   "cell_type": "markdown",
   "id": "formal-burning",
   "metadata": {},
   "source": [
    "**3** Write a function to manually calculate the length of a given list or string without using len().\n"
   ]
  },
  {
   "cell_type": "code",
   "execution_count": 32,
   "id": "stone-tension",
   "metadata": {},
   "outputs": [
    {
     "name": "stdout",
     "output_type": "stream",
     "text": [
      "Enter a list or string: Emmanuel\n",
      "8\n"
     ]
    }
   ],
   "source": [
    "def calc_len():\n",
    "    x=input(\"Enter a list or string: \")\n",
    "    count = 0\n",
    "    for i in x:\n",
    "        count += 1\n",
    "    print(count)\n",
    "calc_len()        "
   ]
  },
  {
   "cell_type": "markdown",
   "id": "developing-texas",
   "metadata": {},
   "source": [
    "**4** Implement a function that checks if a given character is a vowel (a, e, i, o, u)."
   ]
  },
  {
   "cell_type": "code",
   "execution_count": 16,
   "id": "undefined-alignment",
   "metadata": {},
   "outputs": [
    {
     "name": "stdout",
     "output_type": "stream",
     "text": [
      "Enter a single character: A\n",
      "A  is a vowel \n"
     ]
    }
   ],
   "source": [
    "def vowel():\n",
    "    x=[\"a\",\"e\",\"i\",\"o\",\"u\",\"A\",\"E\",\"I\",\"O\",\"U\"]\n",
    "    ch=input(\"Enter a single character: \")\n",
    "    if ch in x:\n",
    "        print(ch,\" is a vowel \")\n",
    "    else:\n",
    "        print(ch, \" is a consonant\")\n",
    "vowel()        "
   ]
  },
  {
   "cell_type": "markdown",
   "id": "drawn-vegetarian",
   "metadata": {},
   "source": [
    "**5** Write a function encode() that converts a string into “rövarspråket” (robber’s language) by doubling consonants and placing “o” in between, e.g., “hello” -> “hohelollolo”."
   ]
  },
  {
   "cell_type": "code",
   "execution_count": 33,
   "id": "productive-notification",
   "metadata": {},
   "outputs": [
    {
     "name": "stdout",
     "output_type": "stream",
     "text": [
      "Enter a string: Emmanuel Ansah Kwame Junior\n",
      "Emommomanonuelol Anonsosahoh KoKwowamome JoJunonioror\n"
     ]
    }
   ],
   "source": [
    "def encode():\n",
    "    x=input(\"Enter a string: \")\n",
    "    y=[\"a\",\"e\",\"i\",\"o\",\"u\",\"A\",\"E\",\"I\",\"O\",\"U\",\" \"]\n",
    "    n=\"\"\n",
    "    for i in x:\n",
    "        if i not in y:\n",
    "            n += i + \"o\" + i  \n",
    "        else:\n",
    "            n += i  \n",
    "\n",
    "    print(n) \n",
    "\n",
    "encode()        "
   ]
  },
  {
   "cell_type": "markdown",
   "id": "collect-seminar",
   "metadata": {},
   "source": [
    "**6** Create sum_elements() and product_elements() functions to sum and multiply all elements in a list, respectively."
   ]
  },
  {
   "cell_type": "code",
   "execution_count": 45,
   "id": "silent-colors",
   "metadata": {},
   "outputs": [
    {
     "name": "stdout",
     "output_type": "stream",
     "text": [
      "Enter numbers with spaces: 4 5 6\n",
      "15\n"
     ]
    }
   ],
   "source": [
    "def sum_elements():\n",
    "    x = input(\"Enter numbers with spaces: \").split() \n",
    "    x = [int(num) for num in x]  \n",
    "    \n",
    "    n=0\n",
    "    for i in x:\n",
    "        n += i\n",
    "    print(n)\n",
    "sum_elements()    "
   ]
  },
  {
   "cell_type": "code",
   "execution_count": 46,
   "id": "still-continuity",
   "metadata": {},
   "outputs": [
    {
     "name": "stdout",
     "output_type": "stream",
     "text": [
      "Enter numbers with spaces: 3 5\n",
      "15\n"
     ]
    }
   ],
   "source": [
    "def product_elements():\n",
    "    x = input(\"Enter numbers with spaces: \").split() \n",
    "    x = [int(num) for num in x]  \n",
    "    \n",
    "    n=1\n",
    "    for i in x:\n",
    "        n *= i\n",
    "    print(n)\n",
    "product_elements()  "
   ]
  },
  {
   "cell_type": "markdown",
   "id": "alpine-vietnam",
   "metadata": {},
   "source": [
    "**7** Define a function reverse_string() to reverse the characters in a given string."
   ]
  },
  {
   "cell_type": "code",
   "execution_count": null,
   "id": "studied-sunday",
   "metadata": {},
   "outputs": [],
   "source": [
    "def reverse_string():\n",
    "    x=input(\"Enter a word/string\")\n",
    "    y=x.split()\n",
    "    print(y)\n",
    "reverse_string() "
   ]
  },
  {
   "cell_type": "code",
   "execution_count": 11,
   "id": "pleased-realtor",
   "metadata": {},
   "outputs": [
    {
     "data": {
      "text/plain": [
       "'s'"
      ]
     },
     "execution_count": 11,
     "metadata": {},
     "output_type": "execute_result"
    }
   ],
   "source": [
    "c=\"sun\"\n",
    "c[0]"
   ]
  },
  {
   "cell_type": "markdown",
   "id": "electoral-yukon",
   "metadata": {},
   "source": [
    "**9** Develop a function check_membership() to determine if a value exists within a list."
   ]
  },
  {
   "cell_type": "code",
   "execution_count": 15,
   "id": "informational-california",
   "metadata": {},
   "outputs": [
    {
     "name": "stdout",
     "output_type": "stream",
     "text": [
      "Enter ID number to check C21\n",
      "Access denied, You are not a Member\n"
     ]
    }
   ],
   "source": [
    "def check_membership():\n",
    "    a=[\"A11\",\"B22\",\"C33\"]\n",
    "    value=input(\"Enter ID number to check \")\n",
    "    if value in a:\n",
    "        print(\"Access granted\")\n",
    "    else:\n",
    "        print(\"Access denied, You are not a Member\")\n",
    "    \n",
    "    \n",
    "check_membership()    "
   ]
  },
  {
   "cell_type": "markdown",
   "id": "ideal-aluminum",
   "metadata": {},
   "source": [
    "**10** Write check_overlap() to identify if two lists share any elements."
   ]
  },
  {
   "cell_type": "code",
   "execution_count": 18,
   "id": "future-vatican",
   "metadata": {},
   "outputs": [
    {
     "name": "stdout",
     "output_type": "stream",
     "text": [
      "girl is a shared element\n",
      "man is a shared element\n"
     ]
    }
   ],
   "source": [
    "def check_overlap():\n",
    "    a=[\"boy\",\"girl\",\"man\",\"woman\"]\n",
    "    b=[\"Ama\",\"man\",\"Eve\",\"girl\"]\n",
    "    for i in a:\n",
    "        if i in b:\n",
    "            print(f\"{i} is a shared element\")\n",
    "            \n",
    "check_overlap()    "
   ]
  },
  {
   "cell_type": "markdown",
   "id": "reserved-adoption",
   "metadata": {},
   "source": [
    "**13**\n",
    "Write find_max_in_list() to identify the largest number in a list of arbitrary length."
   ]
  },
  {
   "cell_type": "code",
   "execution_count": 46,
   "id": "exempt-discrimination",
   "metadata": {},
   "outputs": [
    {
     "name": "stdout",
     "output_type": "stream",
     "text": [
      "22\n"
     ]
    }
   ],
   "source": [
    "def find_max_in_list():\n",
    "    mylist=[1,3,4,5,20,6,22,3,5]\n",
    "    print( max(mylist))\n",
    "            \n",
    "find_max_in_list()        "
   ]
  },
  {
   "cell_type": "markdown",
   "id": "changed-majority",
   "metadata": {},
   "source": [
    "**14** Create a program that maps each word in a list to its length.\n"
   ]
  },
  {
   "cell_type": "code",
   "execution_count": 37,
   "id": "aquatic-heavy",
   "metadata": {},
   "outputs": [
    {
     "name": "stdout",
     "output_type": "stream",
     "text": [
      "dog has length ====>>>>>> 3\n",
      "elephant has length ====>>>>>> 8\n",
      "goat has length ====>>>>>> 4\n",
      "donkey has length ====>>>>>> 6\n"
     ]
    }
   ],
   "source": [
    "def mapword():\n",
    "    l=[\"dog\",\"elephant\",\"goat\",\"donkey\"]\n",
    "    for i in l:\n",
    "        a=len(i)\n",
    "        print(f\"{i} has length ====>>>>>> {a}\")\n",
    "mapword()    "
   ]
  },
  {
   "cell_type": "markdown",
   "id": "offensive-currency",
   "metadata": {},
   "source": [
    "**15**\n",
    "Implement longest_word() to find the longest word in a list.\n"
   ]
  },
  {
   "cell_type": "code",
   "execution_count": 43,
   "id": "urban-southwest",
   "metadata": {
    "scrolled": true
   },
   "outputs": [
    {
     "name": "stdout",
     "output_type": "stream",
     "text": [
      "donkey is the longest with 6 words\n"
     ]
    }
   ],
   "source": [
    "def longest_word():\n",
    "    l=[\"dog\",\"elephant\",\"goat\",\"donkey\"]\n",
    "    for i in l:\n",
    "        a=list()\n",
    "        a.append(len(i))\n",
    "        print\n",
    "    a.sort()\n",
    "    print(f\"{i} is the longest with {a[-1]} words\")\n",
    "longest_word()        "
   ]
  }
 ],
 "metadata": {
  "kernelspec": {
   "display_name": "Python 3",
   "language": "python",
   "name": "python3"
  },
  "language_info": {
   "codemirror_mode": {
    "name": "ipython",
    "version": 3
   },
   "file_extension": ".py",
   "mimetype": "text/x-python",
   "name": "python",
   "nbconvert_exporter": "python",
   "pygments_lexer": "ipython3",
   "version": "3.9.2"
  }
 },
 "nbformat": 4,
 "nbformat_minor": 5
}
